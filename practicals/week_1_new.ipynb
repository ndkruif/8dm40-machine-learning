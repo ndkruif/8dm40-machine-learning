{
 "cells": [
  {
   "cell_type": "markdown",
   "metadata": {},
   "source": [
    "# Getting started with the practicals\n",
    "\n",
    "***These notebooks are best viewed in Jupyter. GitHub might not display all content of the notebook properly.***\n",
    "\n",
    "## Goal of the practical exercises\n",
    "\n",
    "The exercises have two goals:\n",
    "\n",
    "1. Give you the opportunity to obtain 'hands-on' experience in implementing, training and evaluation machine learning models in Python. This experience will also help you better understand the theory covered during the lectures. \n",
    "\n",
    "2. Occasionally demonstrate some 'exam-style' questions that you can use as a reference when studying for the exam. Note however that the example questions are (as the name suggests) only examples and do not constitute a complete and sufficient list of 'things that you have to learn for the exam'. You can recognize example questions as (parts of) exercises by <font color=\"#770a0a\">this font color</font>.\n",
    "\n",
    "For each set of exercises (one Python notebook such as this one $==$ one set of exercises) you have to submit deliverables that will then be graded and constitute 25% of the final grade. Thus, the work that you do during the practicals has double contribution towards the final grade: as 30% direct contribution and as a preparation for the exam that will define the other 65% of the grade.\n",
    "\n",
    "## Deliverables\n",
    "\n",
    "For each set of exercises, you have to submit:\n",
    "1. Python functions and/or classes (`.py` files) that implement basic functionalities (e.g. a $k$-NN classifier) and \n",
    "2. A *single* Python notebook that contains the experiments, visualization and answer to the questions and math problems. *Do not submit your answers as Word or PDF documents (they will not be graded)*. The submitted code and notebook should run without errors and be able to fully reproduce the reported results.\n",
    "\n",
    "We recommend that you clone the provided notebooks (such as this one) and write your code in them. The following rubric will be used when grading the practical work:\n",
    "\n",
    "Component  | Insufficient | Satisfactory | Excellent\n",
    "--- | --- | --- | ---\n",
    "**Code** | Missing or incomplete code structure, runs with errors, lacks documentation | Self-contained, does not result in errors, contains some documentation, can be easily used to reproduce the reported results | User-friendly, well-structured (good separation of general functionality and experiments, i.e. between `.py` files and the Pyhthon notebook), detailed documentation, optimized for speed, use of a version control system (such as GitHub)\n",
    "**Answers to questions** | Incorrect, does not convey understanding of the material, appears to be copied from another source | Correct, conveys good understanding of the material, description in own words | Correct, conveys excellent level of understanding, makes connections between topics\n",
    "\n",
    "## A word on notation\n",
    "\n",
    "When we refer to Python variables, we will use a monospace font. For example, `X` is a Python variable that contains the data matrix. When we refer to mathematical variables, we will use the de-facto standard notation: $a$ or $\\lambda$ is a scalar variable, $\\boldsymbol{\\mathrm{w}}$ is a vector and $\\boldsymbol{\\mathrm{X}}$ is a matrix (e.g. a data matrix from the example above). You should use the same notation when writing your answers and solutions.\n",
    "\n",
    "# Two simple machine learning models\n",
    "\n",
    "## Preliminaries\n",
    "\n",
    "Throughout the practical curriculum of this course, we will use the Python programming language and its ecosystem of libraries for scientific computing (such as `numpy`, `scipy`, `matplotlib`, `scikit-learn` etc). The practicals for the deep learning part of the course will use the `keras` deep learning framework. If you are not sufficiently familiar with this programming language and/or the listed libraries and packages, you are strongly advised to go over the corresponding tutorials from the ['Essential skills'](https://github.com/tueimage/essential-skills) module (the `scikit-learn` library is not covered by the tutorial, however, an extensive documentation is available [here](https://scikit-learn.org/stable/documentation.html).\n",
    "\n",
    "In this first set of exercises, we will use two toy datasets that ship together with `scikit-learn`. \n",
    "\n",
    "The first dataset is named `diabetes` and contains 442 patients described with 10 features: age, sex, body mass index, average blood pressure, and six blood serum measurements. The target variable is a continuous quantitative measure of the disease (diabetes) progression one year after the baseline measurements were recorded. More information is available [here](https://github.com/scikit-learn/scikit-learn/blob/master/sklearn/datasets/descr/diabetes.rst) and [here](https://www4.stat.ncsu.edu/~boos/var.select/diabetes.html).\n",
    "\n",
    "The second dataset is named `breast_cancer` and is a copy of the UCI ML Breast Cancer Wisconsin (Diagnostic) datasets (more infortmation is available [here](https://github.com/scikit-learn/scikit-learn/blob/master/sklearn/datasets/descr/breast_cancer.rst) and [here](https://archive.ics.uci.edu/ml/datasets/Breast+Cancer+Wisconsin+(Diagnostic)). The datasets contains of 569 instances represented with 30 features that are computed from a images of a fine needle aspirate of a breast mass. The features describe characteristics of the cell nuclei present in the image. Each instance is associated with a binary target variable ('malignant' or 'benign'). \n",
    "\n",
    "You can load the two datasets in the following way:"
   ]
  },
  {
   "cell_type": "code",
   "execution_count": 8,
   "metadata": {},
   "outputs": [],
   "source": [
    "import numpy as np\n",
    "from sklearn.datasets import load_diabetes, load_breast_cancer\n",
    "\n",
    "diabetes = load_diabetes()\n",
    "\n",
    "breast_cancer = load_breast_cancer()\n"
   ]
  },
  {
   "cell_type": "markdown",
   "metadata": {},
   "source": [
    "In the majority of the exercises in this course, we will use higher-level libraries and packages such as `scikit-learn` and `keras` to implement, train and evaluate machine learning models. However, the goal of this first set of exercises is to illustrate basic mathematical tools and machine learning concepts. Because of this, we will impose a restriction of only using basic `numpy` functionality. Furthermore, you should as much as possible restrict the use of for-loops (e.g. use a vector-to-matrix product instead of a for loop when appropriate).\n",
    "\n",
    "If `X` is a 2D data matrix, we will use the convention that the rows of the matrix contain the samples (or instances) and the columns contain the features (inputs to the model). That means that a data matrix with a shape `(122, 13)` represents a dataset with 122 samples, each represented with 13 features. Similarly, if `Y` is a 2D matrix containing the targets, the rows correspond to the samples and the columns to the different targets (outputs of the model). Thus, if the shape of `Y` is `(122, 3)` that means that there are 122 samples and each sample is has 3 targets (note that in the majority of the examples we will only have a single target and thus the number of columns of `Y` will be 1).\n",
    "\n",
    "You can obtain the data and target matrices from the two datasets in the following way:"
   ]
  },
  {
   "cell_type": "code",
   "execution_count": 9,
   "metadata": {},
   "outputs": [
    {
     "name": "stdout",
     "output_type": "stream",
     "text": [
      "(442, 10)\n",
      "(442, 1)\n"
     ]
    }
   ],
   "source": [
    "X = diabetes.data\n",
    "Y = diabetes.target[:, np.newaxis]\n",
    "\n",
    "print(X.shape)\n",
    "print(Y.shape)"
   ]
  },
  {
   "cell_type": "markdown",
   "metadata": {},
   "source": [
    "If you want to only use a subset of the available features, you can obtain a reduced data matrix in the following way:"
   ]
  },
  {
   "cell_type": "code",
   "execution_count": 10,
   "metadata": {
    "scrolled": true
   },
   "outputs": [
    {
     "name": "stdout",
     "output_type": "stream",
     "text": [
      "(442, 1)\n",
      "(442, 2)\n"
     ]
    }
   ],
   "source": [
    "# use only the fourth feature\n",
    "X = diabetes.data[:, np.newaxis, 3]\n",
    "print(X.shape)\n",
    "\n",
    "# use the third, and tenth features\n",
    "X = diabetes.data[:, (3,9)]\n",
    "print(X.shape)"
   ]
  },
  {
   "cell_type": "markdown",
   "metadata": {},
   "source": [
    "***Question***: Why we need to use the `np.newaxis` expression in the examples above? \n",
    "\n",
    "Note that in all your experiments in the exercises, you should use and independent training and testing sets. You can split the dataset into a training and testing subsets in the following way:"
   ]
  },
  {
   "cell_type": "code",
   "execution_count": 11,
   "metadata": {},
   "outputs": [
    {
     "name": "stdout",
     "output_type": "stream",
     "text": [
      "(300, 1)\n",
      "(300, 1)\n",
      "(142, 1)\n",
      "(142, 1)\n"
     ]
    }
   ],
   "source": [
    "# use the fourth feature\n",
    "# use the first 300 training samples for training, and the rest for testing\n",
    "X_train = diabetes.data[:300, np.newaxis, 3]\n",
    "y_train = diabetes.target[:300, np.newaxis]\n",
    "X_test = diabetes.data[300:, np.newaxis, 3]\n",
    "y_test = diabetes.target[300:, np.newaxis]\n",
    "print(X_train.shape)\n",
    "print(y_train.shape)\n",
    "print(X_test.shape)\n",
    "print(y_test.shape)"
   ]
  },
  {
   "cell_type": "markdown",
   "metadata": {},
   "source": [
    "## Exercises\n",
    "\n",
    "### Linear regression\n",
    "\n",
    "Implement training and evaluation of a linear regression model on the diabetes dataset using only matrix multiplication, inversion and transpose operations. Report the mean squared error of the model.\n",
    "\n",
    "To get you started we have implemented the first part of this exercise (fitting of the model) as an example."
   ]
  },
  {
   "cell_type": "code",
   "execution_count": 6,
   "metadata": {},
   "outputs": [
    {
     "name": "stdout",
     "output_type": "stream",
     "text": [
      "MSE of test data = [[2794.5690145]]\n"
     ]
    }
   ],
   "source": [
    "# add subfolder that contains all the function implementations\n",
    "# to the system path so we can import them\n",
    "import sys\n",
    "sys.path.append('code/')\n",
    "\n",
    "# the actual implementation is in linear_regression.py,\n",
    "# here we will just use it to fit a model\n",
    "from linear_regression import *\n",
    "\n",
    "from sklearn.datasets import load_diabetes, load_breast_cancer\n",
    "diabetes = load_diabetes()\n",
    "breast_cancer = load_breast_cancer() \n",
    "\n",
    "# load the dataset\n",
    "# same as before, but now we use all features\n",
    "X_train = diabetes.data[:300, :]\n",
    "y_train = diabetes.target[:300, np.newaxis]\n",
    "X_test = diabetes.data[300:, :]\n",
    "y_test = diabetes.target[300:, np.newaxis]\n",
    "\n",
    "beta = lsq(X_train, y_train)\n",
    "     \n",
    "X_test2 = np.c_[np.ones(len(X_test)) ,X_test] #add column of ones\n",
    "Y_pred = np.dot(X_test2,beta)\n",
    "Err = np.subtract(y_test,Y_pred)\n",
    "MSE = np.dot(Err.T, Err)/len(X_test)\n",
    "\n",
    "print(\"MSE of test data =\", MSE)"
   ]
  },
  {
   "cell_type": "markdown",
   "metadata": {},
   "source": [
    "### Weighted linear regression\n",
    "\n",
    "Assume that in the dataset that you use to train a linear regression model, there are identical versions of some samples. This problem can be reformulated to a weighted linear regression problem where the matrices $\\boldsymbol{\\mathrm{X}}$ and $\\boldsymbol{\\mathrm{Y}}$ (or the vector $\\boldsymbol{\\mathrm{y}}$ if there is only a single target/output variable) contain only the unique data samples, and a vector $\\boldsymbol{\\mathrm{d}}$ is introduced that gives more weight to samples that appear multiple times in the original dataset (for example, the sample that appears 3 times has a corresponding weight of 3). \n",
    "\n",
    "<p><font color='#770a0a'>Derive the expression for the least-squares solution of a weighted linear regression model (note that in addition to the matrices $\\boldsymbol{\\mathrm{X}}$ and $\\boldsymbol{\\mathrm{Y}}$, the solution should include a vector of weights $\\boldsymbol{\\mathrm{d}}$).</font></p>"
   ]
  },
  {
   "cell_type": "markdown",
   "metadata": {},
   "source": [
    "\\begin{align}\n",
    "WRRS(\\mathbf{w}) & = \\sum_{i=1}^N \\mathbf{d}(y_i - \\mathbf{x}_i\\mathbf{w})^2 \\\\\n",
    "\\end{align}\n",
    "\n",
    "The matrix notation:\n",
    "\\begin{align}\n",
    "WRRS(\\mathbf{w}) & = (\\mathbf{y} - \\mathbf{Xw})^T\\mathbf{d}(\\mathbf{y}-\\mathbf{Xw}) \\\\\n",
    "\\end{align}\n",
    "\n",
    "Differentiate with respect to w\n",
    "\\begin{align}\n",
    "-2\\mathbf{dX}^T(\\mathbf{y}-\\mathbf{Xw}) \\\\\n",
    "\\end{align}\n",
    "\n",
    "To ﬁnd the minimum our derivative must be 0, hence: \n",
    "$$\n",
    "\\begin{align}\n",
    "    \\ -2\\mathbf{dX}^T(\\mathbf{y}-\\mathbf{Xw}) = 0 \\\\\n",
    "    \\ \\mathbf{dX}^T\\mathbf{y}-\\mathbf{dX}^T\\mathbf{Xw} = 0 \\\\\n",
    "    \\ \\mathbf{dX}^T\\mathbf{y} = \\mathbf{dX}^T\\mathbf{Xw} \\\\\n",
    "    \\ \\mathbf{w} = (\\mathbf{dX}^T\\mathbf{X})^{-1}\\mathbf{dX}^T\\mathbf{Y}\n",
    "\\end{align}\n",
    "$$\n"
   ]
  },
  {
   "cell_type": "markdown",
   "metadata": {},
   "source": [
    "### $k$-NN classification\n",
    "\n",
    "Implement a $k$-Nearest neighbors classifier from scratch in Python using only basic matrix operations with `numpy` and `scipy`. Train and evaluate the classifier on the breast cancer dataset, using all features. Show the performance of the classifier for different values of $k$ (plot the results in a graph). Note that for optimal results, you should normalize the features (e.g. to the $[0, 1]$ range or to have a zero mean and unit standard deviation)."
   ]
  },
  {
   "cell_type": "code",
   "execution_count": 27,
   "metadata": {},
   "outputs": [
    {
     "data": {
      "image/png": "[encoded data removed]",
      "text/plain": [
       "<Figure size 432x288 with 1 Axes>"
      ]
     },
     "metadata": {
      "needs_background": "light"
     },
     "output_type": "display_data"
    },
    {
     "name": "stdout",
     "output_type": "stream",
     "text": [
      "the value of k with the lowest error = 31\n"
     ]
    }
   ],
   "source": [
    "import numpy as np\n",
    "from sklearn.datasets import load_diabetes, load_breast_cancer\n",
    "import operator\n",
    "import matplotlib.pyplot as plt\n",
    "import sys\n",
    "sys.path.append('code/')\n",
    "from def_of_week_1_v2 import *\n",
    "diabetes = load_diabetes()\n",
    "breast_cancer = load_breast_cancer()\n",
    "\n",
    "x = breast_cancer.data[:]\n",
    "\n",
    "# normalize the data\n",
    "max_ft = np.zeros(x.shape[1])           #create vector max_ft\n",
    "for ii in range (0,x.shape[1]):\n",
    "    max_ft[ii] = np.max(x[:,ii])        #try to make this an array of all max values and compute the normalized data in a matrix division\n",
    " \n",
    "x_norm = x*(1/max_ft)    \n",
    "\n",
    "   \n",
    "X_train = x_norm[:350] #CHANGE BACK TO 350\n",
    "y_train = breast_cancer.target[:350, np.newaxis]\n",
    "X_test = x_norm[350:]\n",
    "y_test = breast_cancer.target[350:, np.newaxis]\n",
    "\n",
    "dict_of_errors ={}\n",
    "\n",
    "# the value of k needs always to be an odd number\n",
    "for k in range(1,X_train.shape[0]+1,2):        #len(X_train)+1, \n",
    "    predicted_labels = kNN_test(X_train, X_test, y_train, y_test, k)\n",
    "    #calculates the error of every k\n",
    "    #knn_error = error_squared(y_test,predicted_labels)  \n",
    "    predictionmeasure = predicted_labels ==y_test.T #whuch predictions were true or false\n",
    "    right = sum(sum(predictionmeasure))  #nr of correct predictions\n",
    "    error1 = len(y_test)-right #nr of false predictions\n",
    "    knn_error = error1/len(y_test)\n",
    "    dict_of_errors[k]=knn_error\n",
    "    \n",
    "# It plots all the errors (y-as) against the k value's (x-as)\n",
    "plt.plot(list(dict_of_errors.keys()), list(dict_of_errors.values()))\n",
    "plt.xlabel('value of k')\n",
    "plt.ylabel('error')\n",
    "plt.title('Error rate dependence on k')\n",
    "plt.show()\n",
    "\n",
    "# It will print the value of K with the lowest error\n",
    "whichK = sorted(dict_of_errors.items(), key=operator.itemgetter(1))\n",
    "bestKvalue = whichK[0][0]\n",
    "print(\"the value of k with the lowest error =\", bestKvalue)"
   ]
  },
  {
   "cell_type": "code",
   "execution_count": null,
   "metadata": {},
   "outputs": [],
   "source": []
  },
  {
   "cell_type": "markdown",
   "metadata": {},
   "source": [
    "It is important to choose an odd k-value. \n",
    "As you can see in the image, as the k-value becomes too high, the error\n",
    "will become higher. This process is also called overfitting. \n",
    "The best value of k in this example is 31"
   ]
  },
  {
   "cell_type": "markdown",
   "metadata": {},
   "source": [
    "### $k$-NN regression\n",
    "\n",
    "Modify the $k$-NN implementation to do regression instead of classification. Compare the performance of the linear regression model and the $k$-NN regression model on the diabetes dataset for different values of $k$.."
   ]
  },
  {
   "cell_type": "code",
   "execution_count": 8,
   "metadata": {},
   "outputs": [
    {
     "name": "stdout",
     "output_type": "stream",
     "text": [
      "the value of k with the lowest error = 33\n",
      "5299.04336557049\n"
     ]
    },
    {
     "data": {
      "image/png": "[encoded data removed]",
      "text/plain": [
       "<Figure size 432x288 with 1 Axes>"
      ]
     },
     "metadata": {
      "needs_background": "light"
     },
     "output_type": "display_data"
    }
   ],
   "source": [
    "import sys\n",
    "sys.path.append('code/')\n",
    "from knn_classifier1 import *\n",
    "import numpy as np \n",
    "from sklearn.datasets import load_diabetes\n",
    "import operator\n",
    "from scipy.special import expit\n",
    "import matplotlib.pyplot as plt\n",
    "\n",
    "diabetes = load_diabetes()\n",
    "X_train_d = diabetes.data[:300, np.newaxis, 3]\n",
    "y_train_d = diabetes.target[:300, np.newaxis]\n",
    "X_test_d = diabetes.data[300:, np.newaxis, 3]\n",
    "y_test_d = diabetes.target[300:, np.newaxis]\n",
    "\n",
    "dict_of_reg_errors ={}\n",
    "all_errors = 0\n",
    "\n",
    "for k in range(1,len(X_train_d)+1,2):      # the value of k needs always to be an odd number  \n",
    "    prediction = kNN_test_reg(X_train_d, X_test_d, y_train_d, y_test_d, k)\n",
    "    knn_error = error_squared(y_test_d,prediction) #calculates the error of every k  \n",
    "    all_errors = all_errors + knn_error\n",
    "    if k in dict_of_reg_errors:\n",
    "        print (k)\n",
    "    # creates a dictionary with the k as key and the error as value\n",
    "    else:\n",
    "        dict_of_reg_errors[k]=knn_error\n",
    "# It plots all the errors (y-as) against the k value's (x-as)\n",
    "plt.figure()\n",
    "plt.plot(list(dict_of_reg_errors.keys()), list(dict_of_reg_errors.values()))\n",
    "plt.xlabel('value of k')\n",
    "plt.ylabel('error')\n",
    "plt.title('predicting which k is optimal for the lowest error')\n",
    "\n",
    "# It will print the value of K with the lowest error\n",
    "whichK = sorted(dict_of_reg_errors.items(), key=operator.itemgetter(1))\n",
    "bestKvalue = whichK[0][0]\n",
    "print (\"the value of k with the lowest error =\", bestKvalue)\n",
    "\n",
    "#calculate the mean squared error\n",
    "MSE = all_errors/len(y_test_d)\n",
    "print(\"the value of the mean squared error =\", MSE)"
   ]
  },
  {
   "cell_type": "markdown",
   "metadata": {},
   "source": [
    "The order of the MSE with k-NN regression is the same order of the MSE calculated with linear regression. The data doesn't show a lineair relationship, thus the sum of squared errors are very high."
   ]
  },
  {
   "cell_type": "markdown",
   "metadata": {},
   "source": [
    "### Class-conditional probability\n",
    "\n",
    "Compute and visualize the class-conditional probability (conditional probability where the class label is the conditional variable, i.e. $P(X = x \\mid Y = y)$ for all features in the breast cancer dataset. Assume a Gaussian distribution.\n",
    "\n",
    "<p><font color='#770a0a'>Based on visual analysis of the plots, which individual feature can best discriminate between the two classes? Motivate your answer.</font></p>\n",
    "\n"
   ]
  },
  {
   "cell_type": "code",
   "execution_count": 12,
   "metadata": {
    "scrolled": false
   },
   "outputs": [
    {
     "data": {
      "text/plain": [
       "Text(0.5, 1.0, '27')"
      ]
     },
     "execution_count": 12,
     "metadata": {},
     "output_type": "execute_result"
    },
    {
     "data": {
      "image/png": "[encoded data removed]",
      "text/plain": [
       "<Figure size 432x288 with 1 Axes>"
      ]
     },
     "metadata": {
      "needs_background": "light"
     },
     "output_type": "display_data"
    }
   ],
   "source": [
    "import scipy.stats as stats\n",
    "from scipy.stats import norm\n",
    "import matplotlib.pyplot as plt\n",
    "\n",
    "#1 is B_data(healthy), 0 is M_dataant\n",
    "B_patients = np.where(breast_cancer.target==1) #which patients have benign breast cancer\n",
    "B_data = breast_cancer.data[B_patients] #data of these patients\n",
    "\n",
    "M_patients=np.where(breast_cancer.target==0)\n",
    "M_data = breast_cancer.data[M_patients]\n",
    "\n",
    "B_mean = np.average(B_data, axis=0)  #calcalate the mean \n",
    "B_std = np.std(B_data, axis=0)  #calculate standard deviation\n",
    "\n",
    "M_mean = np.average(M_data, axis=0)  \n",
    "M_std = np.std(M_data, axis=0)\n",
    "\n",
    "#for ii in range(30):\n",
    "ii=27\n",
    "xB = np.linspace(B_mean[ii]-3*B_std[ii],B_mean[ii]+3*B_std[ii],100)\n",
    "xM = np.linspace(M_mean[ii]-3*M_std[ii], M_mean[ii]+3*M_std[ii], 100)\n",
    "plt.figure()\n",
    "plt.plot(xB, stats.norm.pdf(xB,B_mean[ii],B_std[ii]),xM,stats.norm.pdf(xM,M_mean[ii],M_std[ii]))\n",
    "plt.title(ii)\n"
   ]
  },
  {
   "cell_type": "markdown",
   "metadata": {},
   "source": [
    "When the class-conditional probabilities for all 30 features were plotted, the 28th feature 'worst concave points' gave the most distinguishable classes."
   ]
  }
 ],
 "metadata": {
  "kernelspec": {
   "display_name": "Python 3",
   "language": "python",
   "name": "python3"
  },
  "language_info": {
   "codemirror_mode": {
    "name": "ipython",
    "version": 3
   },
   "file_extension": ".py",
   "mimetype": "text/x-python",
   "name": "python",
   "nbconvert_exporter": "python",
   "pygments_lexer": "ipython3",
   "version": "3.7.3"
  }
 },
 "nbformat": 4,
 "nbformat_minor": 2
}
