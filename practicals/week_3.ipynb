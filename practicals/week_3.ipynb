{
 "cells": [
  {
   "cell_type": "markdown",
   "metadata": {},
   "source": [
    "# Preliminaries\n",
    "\n",
    "The `pandas` library allows the user several data structures for different data manipulation tasks:\n",
    "1. Data storage through its `Series` and `DataFrame` data structures.\n",
    "2. Data filtering using multiple methods from the package.\n",
    "3. Reading data from many different file formats such as `csv`, `txt`, `xlsx`, ...\n",
    "\n",
    "Below we provide a brief overview of the `pandas` functionalities needed for these exercises. The complete documentation can be found on the [`pandas` website](https://pandas.pydata.org/).\n",
    "\n",
    "## Pandas data structures\n",
    "\n",
    "### Series\n",
    "The Pandas Series data structure is similar to a one-dimensional array. It can store any type of data. The values are mutable but the size not.\n",
    "\n",
    "To create `Series`, we call the `pd.Series()` method and pass an array. A `Series` may also be created from a numpy array."
   ]
  },
  {
   "cell_type": "code",
   "execution_count": 1,
   "metadata": {},
   "outputs": [
    {
     "name": "stdout",
     "output_type": "stream",
     "text": [
      "0       1\n",
      "1      10\n",
      "2     100\n",
      "3    1000\n",
      "dtype: int64\n",
      "\n",
      "\n",
      "0          PSV\n",
      "1         Ajax\n",
      "2    Feyenoord\n",
      "3       Twente\n",
      "dtype: object\n"
     ]
    }
   ],
   "source": [
    "import pandas as pd\n",
    "import numpy as np\n",
    "\n",
    "first_series = pd.Series([1,10,100,1000])\n",
    "\n",
    "print(first_series)\n",
    "\n",
    "teams = np.array(['PSV','Ajax','Feyenoord','Twente'])\n",
    "second_series = pd.Series(teams)\n",
    "\n",
    "print('\\n')\n",
    "print(second_series)"
   ]
  },
  {
   "cell_type": "markdown",
   "metadata": {},
   "source": [
    "### DataFrame\n",
    "One can think of a `DataFrame` as a table with rows and columns (2D structure). The columns can be of a different type (as opposed to `numpy` arrays) and the size of the `DataFrame` is mutable.\n",
    "\n",
    "To create `DataFrame`, we call the `pd.DataFrame()` method and we can create it from scratch or we can convert a numpy array or a list into a `DataFrame`."
   ]
  },
  {
   "cell_type": "code",
   "execution_count": 2,
   "metadata": {},
   "outputs": [
    {
     "name": "stdout",
     "output_type": "stream",
     "text": [
      "From scratch: \n",
      "    Position       Team  GF  GA  Points\n",
      "0         1        PSV  80  30      79\n",
      "1         2       Ajax  75  25      78\n",
      "2         3  Feyenoord  75  40      70\n",
      "3         4     Twente  70  60      66 \n",
      "\n",
      "From list: \n",
      "   Position       Team  GF  GA Points\n",
      "0        1        PSV  80  30     79\n",
      "1        2       Ajax  75  25     78\n",
      "2        3  Feyenoord  75  40     70\n",
      "3        4     Twente  70  60     66 \n",
      "\n",
      "From numpy array: \n",
      "   Position       Team  GF  GA Points\n",
      "0        1        PSV  80  30     79\n",
      "1        2       Ajax  75  25     78\n",
      "2        3  Feyenoord  75  40     70\n",
      "3        4     Twente  70  60     66 \n",
      "\n"
     ]
    }
   ],
   "source": [
    "# DataFrame from scratch\n",
    "first_dataframe = pd.DataFrame({\n",
    "    \"Position\": [1, 2, 3, 4],\n",
    "    \"Team\": ['PSV','Ajax','Feyenoord','Twente'],\n",
    "    \"GF\": [80, 75, 75, 70],\n",
    "    \"GA\": [30, 25, 40, 60],\n",
    "    \"Points\": [79, 78, 70, 66]\n",
    "})\n",
    "\n",
    "print(\"From scratch: \\n {} \\n\".format(first_dataframe))\n",
    "\n",
    "# DataFrme from a list\n",
    "data = [[1, 2, 3, 4], ['PSV','Ajax','Feyenoord','Twente'], \n",
    "        [80, 75, 75, 70], [30, 25, 40, 60], [79, 78, 70, 66]]\n",
    "columns = [\"Position\", \"Team\", \"GF\", \"GA\", \"Points\"]\n",
    "\n",
    "second_dataframe = pd.DataFrame(data, index=columns)\n",
    "\n",
    "print(\"From list: \\n {} \\n\".format(second_dataframe.T)) # the '.T' operator is explained later on\n",
    "\n",
    "# DataFrame from numpy array\n",
    "data = np.array([[1, 2, 3, 4], ['PSV','Ajax','Feyenoord','Twente'], \n",
    "                 [80, 75, 75, 70], [30, 25, 40, 60], [79, 78, 70, 66]])\n",
    "columns = [\"Position\", \"Team\", \"GF\", \"GA\", \"Points\"]\n",
    "\n",
    "third_dataframe = pd.DataFrame(data.T, columns=columns)\n",
    "\n",
    "print(\"From numpy array: \\n {} \\n\".format(third_dataframe))"
   ]
  },
  {
   "cell_type": "markdown",
   "metadata": {},
   "source": [
    "### DataFrame attributes\n",
    "This section gives a quick overview of some of the `pandas.DataFrame` attributes such as `T`, `index`, `columns`, `iloc`, `loc`, `shape` and `values`."
   ]
  },
  {
   "cell_type": "code",
   "execution_count": 3,
   "metadata": {},
   "outputs": [
    {
     "name": "stdout",
     "output_type": "stream",
     "text": [
      "            0     1          2       3\n",
      "Position    1     2          3       4\n",
      "Team      PSV  Ajax  Feyenoord  Twente\n",
      "GF         80    75         75      70\n",
      "GA         30    25         40      60\n",
      "Points     79    78         70      66\n"
     ]
    }
   ],
   "source": [
    "# transpose the index and columns\n",
    "print(third_dataframe.T)"
   ]
  },
  {
   "cell_type": "code",
   "execution_count": 4,
   "metadata": {},
   "outputs": [
    {
     "name": "stdout",
     "output_type": "stream",
     "text": [
      "RangeIndex(start=0, stop=4, step=1)\n"
     ]
    }
   ],
   "source": [
    "# index makes reference to the row labels\n",
    "print(third_dataframe.index)"
   ]
  },
  {
   "cell_type": "code",
   "execution_count": 5,
   "metadata": {},
   "outputs": [
    {
     "name": "stdout",
     "output_type": "stream",
     "text": [
      "Index(['Position', 'Team', 'GF', 'GA', 'Points'], dtype='object')\n"
     ]
    }
   ],
   "source": [
    "# columns makes reference to the column labels\n",
    "print(third_dataframe.columns)"
   ]
  },
  {
   "cell_type": "code",
   "execution_count": 6,
   "metadata": {},
   "outputs": [
    {
     "name": "stdout",
     "output_type": "stream",
     "text": [
      "0          PSV\n",
      "1         Ajax\n",
      "2    Feyenoord\n",
      "3       Twente\n",
      "Name: Team, dtype: object\n"
     ]
    }
   ],
   "source": [
    "# iloc allows to access the index by integer-location (e.g. all team names, which are in the second columm)\n",
    "print(third_dataframe.iloc[:,1])"
   ]
  },
  {
   "cell_type": "code",
   "execution_count": 7,
   "metadata": {},
   "outputs": [
    {
     "name": "stdout",
     "output_type": "stream",
     "text": [
      "PSV\n"
     ]
    }
   ],
   "source": [
    "# loc allows to access the index by label(s)-location (e.g. all team names, which are in the \"Team\" columm)\n",
    "print(third_dataframe.loc[0, 'Team'])"
   ]
  },
  {
   "cell_type": "code",
   "execution_count": 8,
   "metadata": {},
   "outputs": [
    {
     "name": "stdout",
     "output_type": "stream",
     "text": [
      "(4, 5)\n"
     ]
    }
   ],
   "source": [
    "# shape returns a tuple with the DataFrame dimension, similar to numpy\n",
    "print(third_dataframe.shape)"
   ]
  },
  {
   "cell_type": "code",
   "execution_count": 9,
   "metadata": {},
   "outputs": [
    {
     "name": "stdout",
     "output_type": "stream",
     "text": [
      "[['1' 'PSV' '80' '30' '79']\n",
      " ['2' 'Ajax' '75' '25' '78']\n",
      " ['3' 'Feyenoord' '75' '40' '70']\n",
      " ['4' 'Twente' '70' '60' '66']]\n"
     ]
    }
   ],
   "source": [
    "# values return a Numpy representation of the DataFrame data\n",
    "print(third_dataframe.values)"
   ]
  },
  {
   "cell_type": "markdown",
   "metadata": {},
   "source": [
    "### DataFrame methods\n",
    "This section gives a quick overview of some of the `pandas.DataFrame` methods such as `head`, `describe`, `concat`, `groupby`,`rename`, `filter`, `drop` and `isna`. To import data from CSV or MS Excel files, we can make use of `read_csv` and `read_excel`, respectively."
   ]
  },
  {
   "cell_type": "code",
   "execution_count": 10,
   "metadata": {},
   "outputs": [
    {
     "name": "stdout",
     "output_type": "stream",
     "text": [
      "  Position       Team  GF  GA Points\n",
      "0        1        PSV  80  30     79\n",
      "1        2       Ajax  75  25     78\n",
      "2        3  Feyenoord  75  40     70\n",
      "3        4     Twente  70  60     66\n"
     ]
    }
   ],
   "source": [
    "# print the first few rows in your dataset with head()\n",
    "print(third_dataframe.head()) # In this case, it is not very useful because we don't have thousands of rows"
   ]
  },
  {
   "cell_type": "code",
   "execution_count": 11,
   "metadata": {},
   "outputs": [
    {
     "name": "stdout",
     "output_type": "stream",
     "text": [
      "       Position    Team  GF  GA Points\n",
      "count         4       4   4   4      4\n",
      "unique        4       4   3   4      4\n",
      "top           4  Twente  75  30     78\n",
      "freq          1       1   2   1      1\n"
     ]
    }
   ],
   "source": [
    "# get the summary statistics of the DataFrame with describe()\n",
    "print(third_dataframe.describe())"
   ]
  },
  {
   "cell_type": "code",
   "execution_count": 12,
   "metadata": {},
   "outputs": [
    {
     "name": "stdout",
     "output_type": "stream",
     "text": [
      "  Position  Team  GF  GA Points\n",
      "0        1   PSV  80  30     79\n",
      "1        2  Ajax  75  25     78\n",
      "\n",
      "\n",
      "  Position       Team  GF  GA Points\n",
      "2        3  Feyenoord  75  40     70\n",
      "3        4     Twente  70  60     66\n",
      "\n",
      "\n",
      "  Position       Team  GF  GA Points\n",
      "0        1        PSV  80  30     79\n",
      "1        2       Ajax  75  25     78\n",
      "2        3  Feyenoord  75  40     70\n",
      "3        4     Twente  70  60     66\n"
     ]
    }
   ],
   "source": [
    "# concatenate (join) DataFrame objects using concat()\n",
    "\n",
    "# first, we will split the above DataFrame in two different ones\n",
    "df_a = third_dataframe.loc[[0,1],:]\n",
    "df_b = third_dataframe.loc[[2,3],:]\n",
    "\n",
    "print(df_a)\n",
    "print('\\n')\n",
    "\n",
    "print(df_b)\n",
    "print('\\n')\n",
    "\n",
    "# now, we concatenate both datasets\n",
    "df = pd.concat([df_a, df_b])\n",
    "\n",
    "print(df)"
   ]
  },
  {
   "cell_type": "code",
   "execution_count": 13,
   "metadata": {},
   "outputs": [
    {
     "name": "stdout",
     "output_type": "stream",
     "text": [
      "  Position       Team  GF  GA Points\n",
      "1        2       Ajax  75  25     78\n",
      "2        3  Feyenoord  75  40     70\n"
     ]
    }
   ],
   "source": [
    "# group the data by certain variable via groupby()\n",
    "# here, we have grouped the data by goals for, which in this case is 75\n",
    "\n",
    "group = df.groupby('GF')\n",
    "\n",
    "print(group.get_group('75'))"
   ]
  },
  {
   "cell_type": "code",
   "execution_count": 14,
   "metadata": {},
   "outputs": [
    {
     "name": "stdout",
     "output_type": "stream",
     "text": [
      "  Pos       Club  GF  GA Points\n",
      "0   1        PSV  80  30     79\n",
      "1   2       Ajax  75  25     78\n",
      "2   3  Feyenoord  75  40     70\n",
      "3   4     Twente  70  60     66\n"
     ]
    }
   ],
   "source": [
    "# rename() helps you change the column or index names\n",
    "print(df.rename(columns={'Position':'Pos','Team':'Club'}))"
   ]
  },
  {
   "cell_type": "code",
   "execution_count": 15,
   "metadata": {},
   "outputs": [
    {
     "name": "stdout",
     "output_type": "stream",
     "text": [
      "        Team Points\n",
      "0        PSV     79\n",
      "1       Ajax     78\n",
      "2  Feyenoord     70\n",
      "3     Twente     66\n"
     ]
    }
   ],
   "source": [
    "# build a subset of rows or columns of your dataset according to labels via filter()\n",
    "# here, items refer to the variable names: 'Team' and 'Points'; to select columns, we specify axis=1\n",
    "print(df.filter(items=['Team', 'Points'], axis=1))"
   ]
  },
  {
   "cell_type": "code",
   "execution_count": 16,
   "metadata": {},
   "outputs": [
    {
     "name": "stdout",
     "output_type": "stream",
     "text": [
      "  Position       Team Points\n",
      "0        1        PSV     79\n",
      "1        2       Ajax     78\n",
      "2        3  Feyenoord     70\n",
      "3        4     Twente     66\n"
     ]
    }
   ],
   "source": [
    "# dropping some labels\n",
    "print(df.drop(columns=['GF', 'GA']))"
   ]
  },
  {
   "cell_type": "code",
   "execution_count": 17,
   "metadata": {},
   "outputs": [
    {
     "name": "stdout",
     "output_type": "stream",
     "text": [
      "   Position   Team     GF     GA  Points\n",
      "0     False  False  False  False   False\n",
      "1     False  False  False  False   False\n",
      "2     False  False  False  False   False\n",
      "3     False  False  False  False   False\n",
      "\n",
      "\n",
      "  Position       Team  GF  GA Points     W\n",
      "0        1        PSV  80  30     79   NaN\n",
      "1        2       Ajax  75  25     78  25.0\n",
      "2        3  Feyenoord  75  40     70  24.0\n",
      "3        4     Twente  70  60     66  19.0\n",
      "\n",
      "\n",
      "   Position   Team     GF     GA  Points      W\n",
      "0     False  False  False  False   False   True\n",
      "1     False  False  False  False   False  False\n",
      "2     False  False  False  False   False  False\n",
      "3     False  False  False  False   False  False\n"
     ]
    }
   ],
   "source": [
    "# search for NA (not available) entries in the DataFrame\n",
    "print(df.isna()) # No NA values\n",
    "print('\\n')\n",
    "\n",
    "# create a pandas Series with a NA value\n",
    "# the Series as W (winnin matches)\n",
    "tmp = pd.Series([np.NaN, 25, 24, 19],  name=\"W\")\n",
    "\n",
    "# concatenate the Series with the DataFrame\n",
    "df = pd.concat([df,tmp], axis = 1)\n",
    "print(df)\n",
    "print('\\n')\n",
    "\n",
    "# again, check for NA entries\n",
    "print(df.isna())"
   ]
  },
  {
   "cell_type": "markdown",
   "metadata": {},
   "source": [
    "## Dataset\n",
    "\n",
    "For this week exercises we will use a dataset from the Genomics of Drug Sensitivity in Cancer (GDSC) project (https://www.cancerrxgene.org/). In this study (['Iorio et al., Cell, 2016']()), 265 compounds were tested on 1001 cancer cell lines for which different types of -omics data (RNA expression, DNA methylation, Copy Number Alteration, DNA sequencing) are available. This is a valuable resource to look for biomarkers of drugs sensitivity in order to try to understand why cancer patients responds very differently to cancer drugs and find ways to assign the optimal treatment to each patient.\n",
    "\n",
    "For this exercise we will use a subset of the data, focusing the response to the drug YM155 (Sepantronium bromide) on four cancer types, for a total of 148 cancer cell lines.\n",
    "\n",
    "| ID          | Cancer type                      |\n",
    "|-------------|----------------------------------|\n",
    "|   COAD/READ | Colorectal adenocarcinoma        |\n",
    "|   NB        | Neuroblastoma                    |\n",
    "|   KIRC      | Kidney renal clear cell carcinoma|\n",
    "|   BRCA      | Breast carcinoma                 |\n",
    "\n",
    "We will use the RNA expression data (RMA normalised). Only genes with high variability across cell lines (variance > 5, resulting in 238 genes) have been kept.\n",
    "\n",
    "Drugs have been tested at different concentration, measuring each time the viability of the cells. Drug sensitivity is measured using the natural log of the fitted IC50 metric, which is defined as the half maximal inhibitory concentration. A lower IC50 corresponds to a more sensitive cell line because a lower amount of drug is sufficient to have a strong response, while a higher IC50 corresponds to a more resistant cell line because more drug is needed for killing the cells.\n",
    "\n",
    "Based on the IC50 metric, cells can be classified as sensitive or resistant. The classification is done by computing the $z$-score across all cell lines in the GDSC for each drug, and considering as sensitive the ones with $z$-score < 0 and resistant the ones with $z$-score > 0.\n",
    "\n",
    "The dataset is originally provided as 3 files ([original source](https://www.sciencedirect.com/science/article/pii/S0092867416307462?via%3Dihub)) :\n",
    "\n",
    "`GDSC_RNA_expression.csv`: gene expression matrix with the cell lines in the rows (148) and the genes in the columns (238).\n",
    "\n",
    "`GDSC_drug_response.csv`: vector with the cell lines response to the drug YM155 in terms of log(IC50) and as classification in sensitive or resistant.\n",
    "\n",
    "`GDSC_metadata.csv`: metadata for the 148 cell lines including name, COSMIC ID and tumor type (using the classification from ['The Cancer Genome Atlas TCGA'](https://www.cancer.gov/about-nci/organization/ccg/research/structural-genomics/tcga))\n",
    "\n",
    "For convenience, we provide the data already curated.\n",
    "\n",
    "`RNA_expression_curated.csv`: [148 cell lines , 238 genes]\n",
    "\n",
    "`drug_response_curated.csv`: [148 cell lines , YM155 drug]\n",
    "\n",
    "The curated data cam be read as `pandas` `DataFrame`s in the following way:"
   ]
  },
  {
   "cell_type": "code",
   "execution_count": 1,
   "metadata": {},
   "outputs": [],
   "source": [
    "import pandas as pd\n",
    "\n",
    "gene_expression = pd.read_csv(\"./data/RNA_expression_curated.csv\", sep=',', header=0, index_col=0)\n",
    "drug_response = pd.read_csv(\"./data/drug_response_curated.csv\", sep=',', header=0, index_col=0)"
   ]
  },
  {
   "cell_type": "markdown",
   "metadata": {},
   "source": [
    "You can use the `DataFrame`s directly as inputs to the the `sklearn` models. The advantage over using `numpy` arrays is that the variable are annotated, i.e. each input and output has a name."
   ]
  },
  {
   "cell_type": "markdown",
   "metadata": {},
   "source": [
    "## Tools\n",
    "The `scikit-learn` library provides the required tools for linear regression/classification and shrinkage, as well as for logistic regression."
   ]
  },
  {
   "cell_type": "code",
   "execution_count": 19,
   "metadata": {},
   "outputs": [],
   "source": [
    "from sklearn.linear_model import LinearRegression\n",
    "from sklearn.linear_model import Ridge\n",
    "from sklearn.linear_model import Lasso\n",
    "from sklearn.linear_model import LogisticRegression"
   ]
  },
  {
   "cell_type": "markdown",
   "metadata": {},
   "source": [
    "Note that the notation used for the hyperparameters in the `scikit-learn` library is different from the one used in the lecture. More specifically, in the lecture $\\alpha$ is the tunable parameter to select the compromise between Ridge and Lasso. Whereas, `scikit-learn` library refers to `alpha` as the tunable parameter $\\lambda$. Please check the documentation for more details."
   ]
  },
  {
   "cell_type": "markdown",
   "metadata": {},
   "source": [
    "# Exercises\n",
    "\n",
    "## Selection of the hyperparameter\n",
    "\n",
    "Implement cross-validation (using `sklearn.grid_search.GridSearchCV`) to select the `alpha` hyperparameter of `sklearn.linear_model.Lasso`. \n",
    "\n",
    "\n",
    "## Feature selection\n",
    "\n",
    "Look at the features selected using the hyperparameter which corresponds to the minimum cross-validation error.\n",
    "\n",
    "<p><font color='#770a0a'>Is the partition in training and validation sets playing a role in the selection of the hyperparameter? How will this affect the selection of the relevant features?</font></p>\n",
    "\n",
    "<p><font color='#770a0a'>Should the value of the intercept also be shrunk to zero with Lasso and Ridge regression? Motivate your answer.</font></p>\n",
    "\n",
    "\n",
    "## Bias-variance \n",
    "\n",
    "Show the effect of the regularization on the parameter estimates in terms of bias and variance. For this you can repeat the optimization 100 times using bootstrap and visualise the profile of the Lasso regression coefficient over a grid of the hyperparameter, optionally including the variability as error bars.\n",
    "\n",
    "<p><font color='#770a0a'>Based on the visual analysis of the plot, what are your observation on bias and variance in relation to model complexity? Motivate your answer.</font></p>\n",
    "\n",
    "\n",
    "## Logistic regression\n",
    "\n",
    "<p><font color='#770a0a'>Write the expression of the objective function for the penalized logistic regression with $L_1$ and $L_2$ regularisation (as in Elastic net).</font></p>"
   ]
  },
  {
   "cell_type": "markdown",
   "metadata": {},
   "source": [
    "## Selection of the hyperparameter\n",
    "\n",
    "Implement cross-validation (using `sklearn.grid_search.GridSearchCV`) to select the `alpha` hyperparameter of `sklearn.linear_model.Lasso`. "
   ]
  },
  {
   "cell_type": "code",
   "execution_count": 11,
   "metadata": {},
   "outputs": [
    {
     "name": "stderr",
     "output_type": "stream",
     "text": [
      "C:\\Users\\s146958\\AppData\\Local\\Continuum\\anaconda3\\lib\\site-packages\\sklearn\\linear_model\\coordinate_descent.py:475: ConvergenceWarning: Objective did not converge. You might want to increase the number of iterations. Duality gap: 1.3127432606612852, tolerance: 0.06565973489361702\n",
      "  positive)\n",
      "C:\\Users\\s146958\\AppData\\Local\\Continuum\\anaconda3\\lib\\site-packages\\sklearn\\linear_model\\coordinate_descent.py:475: ConvergenceWarning: Objective did not converge. You might want to increase the number of iterations. Duality gap: 1.4930723743086614, tolerance: 0.06037576212765958\n",
      "  positive)\n",
      "C:\\Users\\s146958\\AppData\\Local\\Continuum\\anaconda3\\lib\\site-packages\\sklearn\\linear_model\\coordinate_descent.py:475: ConvergenceWarning: Objective did not converge. You might want to increase the number of iterations. Duality gap: 1.81236440402531, tolerance: 0.07080580478723406\n",
      "  positive)\n",
      "C:\\Users\\s146958\\AppData\\Local\\Continuum\\anaconda3\\lib\\site-packages\\sklearn\\linear_model\\coordinate_descent.py:475: ConvergenceWarning: Objective did not converge. You might want to increase the number of iterations. Duality gap: 1.0559637319244128, tolerance: 0.07451484357894737\n",
      "  positive)\n",
      "C:\\Users\\s146958\\AppData\\Local\\Continuum\\anaconda3\\lib\\site-packages\\sklearn\\linear_model\\coordinate_descent.py:475: ConvergenceWarning: Objective did not converge. You might want to increase the number of iterations. Duality gap: 1.3352915652584039, tolerance: 0.0728804932631579\n",
      "  positive)\n",
      "C:\\Users\\s146958\\AppData\\Local\\Continuum\\anaconda3\\lib\\site-packages\\sklearn\\linear_model\\coordinate_descent.py:475: ConvergenceWarning: Objective did not converge. You might want to increase the number of iterations. Duality gap: 1.3489350889264557, tolerance: 0.06565973489361702\n",
      "  positive)\n",
      "C:\\Users\\s146958\\AppData\\Local\\Continuum\\anaconda3\\lib\\site-packages\\sklearn\\linear_model\\coordinate_descent.py:475: ConvergenceWarning: Objective did not converge. You might want to increase the number of iterations. Duality gap: 1.1663738330516042, tolerance: 0.06037576212765958\n",
      "  positive)\n",
      "C:\\Users\\s146958\\AppData\\Local\\Continuum\\anaconda3\\lib\\site-packages\\sklearn\\linear_model\\coordinate_descent.py:475: ConvergenceWarning: Objective did not converge. You might want to increase the number of iterations. Duality gap: 2.0857542028425997, tolerance: 0.07080580478723406\n",
      "  positive)\n",
      "C:\\Users\\s146958\\AppData\\Local\\Continuum\\anaconda3\\lib\\site-packages\\sklearn\\linear_model\\coordinate_descent.py:475: ConvergenceWarning: Objective did not converge. You might want to increase the number of iterations. Duality gap: 0.9581707316006891, tolerance: 0.07451484357894737\n",
      "  positive)\n",
      "C:\\Users\\s146958\\AppData\\Local\\Continuum\\anaconda3\\lib\\site-packages\\sklearn\\linear_model\\coordinate_descent.py:475: ConvergenceWarning: Objective did not converge. You might want to increase the number of iterations. Duality gap: 1.3336652873613248, tolerance: 0.0728804932631579\n",
      "  positive)\n",
      "C:\\Users\\s146958\\AppData\\Local\\Continuum\\anaconda3\\lib\\site-packages\\sklearn\\linear_model\\coordinate_descent.py:475: ConvergenceWarning: Objective did not converge. You might want to increase the number of iterations. Duality gap: 1.6786722066496316, tolerance: 0.06565973489361702\n",
      "  positive)\n",
      "C:\\Users\\s146958\\AppData\\Local\\Continuum\\anaconda3\\lib\\site-packages\\sklearn\\linear_model\\coordinate_descent.py:475: ConvergenceWarning: Objective did not converge. You might want to increase the number of iterations. Duality gap: 1.0071680158289558, tolerance: 0.06037576212765958\n",
      "  positive)\n",
      "C:\\Users\\s146958\\AppData\\Local\\Continuum\\anaconda3\\lib\\site-packages\\sklearn\\linear_model\\coordinate_descent.py:475: ConvergenceWarning: Objective did not converge. You might want to increase the number of iterations. Duality gap: 2.265742701761434, tolerance: 0.07080580478723406\n",
      "  positive)\n",
      "C:\\Users\\s146958\\AppData\\Local\\Continuum\\anaconda3\\lib\\site-packages\\sklearn\\linear_model\\coordinate_descent.py:475: ConvergenceWarning: Objective did not converge. You might want to increase the number of iterations. Duality gap: 0.965268181023864, tolerance: 0.07451484357894737\n",
      "  positive)\n",
      "C:\\Users\\s146958\\AppData\\Local\\Continuum\\anaconda3\\lib\\site-packages\\sklearn\\linear_model\\coordinate_descent.py:475: ConvergenceWarning: Objective did not converge. You might want to increase the number of iterations. Duality gap: 1.7835246044119444, tolerance: 0.0728804932631579\n",
      "  positive)\n",
      "C:\\Users\\s146958\\AppData\\Local\\Continuum\\anaconda3\\lib\\site-packages\\sklearn\\linear_model\\coordinate_descent.py:475: ConvergenceWarning: Objective did not converge. You might want to increase the number of iterations. Duality gap: 1.5417214202828695, tolerance: 0.06565973489361702\n",
      "  positive)\n",
      "C:\\Users\\s146958\\AppData\\Local\\Continuum\\anaconda3\\lib\\site-packages\\sklearn\\linear_model\\coordinate_descent.py:475: ConvergenceWarning: Objective did not converge. You might want to increase the number of iterations. Duality gap: 1.0194282735967772, tolerance: 0.06037576212765958\n",
      "  positive)\n",
      "C:\\Users\\s146958\\AppData\\Local\\Continuum\\anaconda3\\lib\\site-packages\\sklearn\\linear_model\\coordinate_descent.py:475: ConvergenceWarning: Objective did not converge. You might want to increase the number of iterations. Duality gap: 1.7650475969912596, tolerance: 0.07080580478723406\n",
      "  positive)\n",
      "C:\\Users\\s146958\\AppData\\Local\\Continuum\\anaconda3\\lib\\site-packages\\sklearn\\linear_model\\coordinate_descent.py:475: ConvergenceWarning: Objective did not converge. You might want to increase the number of iterations. Duality gap: 0.7331213873803326, tolerance: 0.07451484357894737\n",
      "  positive)\n",
      "C:\\Users\\s146958\\AppData\\Local\\Continuum\\anaconda3\\lib\\site-packages\\sklearn\\linear_model\\coordinate_descent.py:475: ConvergenceWarning: Objective did not converge. You might want to increase the number of iterations. Duality gap: 1.5741671538236854, tolerance: 0.0728804932631579\n",
      "  positive)\n",
      "C:\\Users\\s146958\\AppData\\Local\\Continuum\\anaconda3\\lib\\site-packages\\sklearn\\linear_model\\coordinate_descent.py:475: ConvergenceWarning: Objective did not converge. You might want to increase the number of iterations. Duality gap: 1.464850604067817, tolerance: 0.06565973489361702\n",
      "  positive)\n",
      "C:\\Users\\s146958\\AppData\\Local\\Continuum\\anaconda3\\lib\\site-packages\\sklearn\\linear_model\\coordinate_descent.py:475: ConvergenceWarning: Objective did not converge. You might want to increase the number of iterations. Duality gap: 1.1438206369705886, tolerance: 0.06037576212765958\n",
      "  positive)\n",
      "C:\\Users\\s146958\\AppData\\Local\\Continuum\\anaconda3\\lib\\site-packages\\sklearn\\linear_model\\coordinate_descent.py:475: ConvergenceWarning: Objective did not converge. You might want to increase the number of iterations. Duality gap: 1.772871189294097, tolerance: 0.07080580478723406\n",
      "  positive)\n",
      "C:\\Users\\s146958\\AppData\\Local\\Continuum\\anaconda3\\lib\\site-packages\\sklearn\\linear_model\\coordinate_descent.py:475: ConvergenceWarning: Objective did not converge. You might want to increase the number of iterations. Duality gap: 0.8569353016249414, tolerance: 0.07451484357894737\n",
      "  positive)\n",
      "C:\\Users\\s146958\\AppData\\Local\\Continuum\\anaconda3\\lib\\site-packages\\sklearn\\linear_model\\coordinate_descent.py:475: ConvergenceWarning: Objective did not converge. You might want to increase the number of iterations. Duality gap: 1.8689066118416342, tolerance: 0.0728804932631579\n",
      "  positive)\n",
      "C:\\Users\\s146958\\AppData\\Local\\Continuum\\anaconda3\\lib\\site-packages\\sklearn\\linear_model\\coordinate_descent.py:475: ConvergenceWarning: Objective did not converge. You might want to increase the number of iterations. Duality gap: 1.702433058543588, tolerance: 0.06565973489361702\n",
      "  positive)\n",
      "C:\\Users\\s146958\\AppData\\Local\\Continuum\\anaconda3\\lib\\site-packages\\sklearn\\linear_model\\coordinate_descent.py:475: ConvergenceWarning: Objective did not converge. You might want to increase the number of iterations. Duality gap: 1.2641849462553458, tolerance: 0.06037576212765958\n",
      "  positive)\n",
      "C:\\Users\\s146958\\AppData\\Local\\Continuum\\anaconda3\\lib\\site-packages\\sklearn\\linear_model\\coordinate_descent.py:475: ConvergenceWarning: Objective did not converge. You might want to increase the number of iterations. Duality gap: 2.2265973448865726, tolerance: 0.07080580478723406\n",
      "  positive)\n"
     ]
    },
    {
     "name": "stderr",
     "output_type": "stream",
     "text": [
      "C:\\Users\\s146958\\AppData\\Local\\Continuum\\anaconda3\\lib\\site-packages\\sklearn\\linear_model\\coordinate_descent.py:475: ConvergenceWarning: Objective did not converge. You might want to increase the number of iterations. Duality gap: 1.2648080784891387, tolerance: 0.07451484357894737\n",
      "  positive)\n",
      "C:\\Users\\s146958\\AppData\\Local\\Continuum\\anaconda3\\lib\\site-packages\\sklearn\\linear_model\\coordinate_descent.py:475: ConvergenceWarning: Objective did not converge. You might want to increase the number of iterations. Duality gap: 1.9531732054899977, tolerance: 0.0728804932631579\n",
      "  positive)\n",
      "C:\\Users\\s146958\\AppData\\Local\\Continuum\\anaconda3\\lib\\site-packages\\sklearn\\linear_model\\coordinate_descent.py:475: ConvergenceWarning: Objective did not converge. You might want to increase the number of iterations. Duality gap: 1.7073073527801852, tolerance: 0.06565973489361702\n",
      "  positive)\n",
      "C:\\Users\\s146958\\AppData\\Local\\Continuum\\anaconda3\\lib\\site-packages\\sklearn\\linear_model\\coordinate_descent.py:475: ConvergenceWarning: Objective did not converge. You might want to increase the number of iterations. Duality gap: 0.822499496589862, tolerance: 0.06037576212765958\n",
      "  positive)\n",
      "C:\\Users\\s146958\\AppData\\Local\\Continuum\\anaconda3\\lib\\site-packages\\sklearn\\linear_model\\coordinate_descent.py:475: ConvergenceWarning: Objective did not converge. You might want to increase the number of iterations. Duality gap: 2.1816020847835356, tolerance: 0.07080580478723406\n",
      "  positive)\n",
      "C:\\Users\\s146958\\AppData\\Local\\Continuum\\anaconda3\\lib\\site-packages\\sklearn\\linear_model\\coordinate_descent.py:475: ConvergenceWarning: Objective did not converge. You might want to increase the number of iterations. Duality gap: 1.5738488809440898, tolerance: 0.07451484357894737\n",
      "  positive)\n",
      "C:\\Users\\s146958\\AppData\\Local\\Continuum\\anaconda3\\lib\\site-packages\\sklearn\\linear_model\\coordinate_descent.py:475: ConvergenceWarning: Objective did not converge. You might want to increase the number of iterations. Duality gap: 2.352274638624465, tolerance: 0.0728804932631579\n",
      "  positive)\n",
      "C:\\Users\\s146958\\AppData\\Local\\Continuum\\anaconda3\\lib\\site-packages\\sklearn\\linear_model\\coordinate_descent.py:475: ConvergenceWarning: Objective did not converge. You might want to increase the number of iterations. Duality gap: 2.0553705680564978, tolerance: 0.06565973489361702\n",
      "  positive)\n",
      "C:\\Users\\s146958\\AppData\\Local\\Continuum\\anaconda3\\lib\\site-packages\\sklearn\\linear_model\\coordinate_descent.py:475: ConvergenceWarning: Objective did not converge. You might want to increase the number of iterations. Duality gap: 1.14606895203614, tolerance: 0.06037576212765958\n",
      "  positive)\n",
      "C:\\Users\\s146958\\AppData\\Local\\Continuum\\anaconda3\\lib\\site-packages\\sklearn\\linear_model\\coordinate_descent.py:475: ConvergenceWarning: Objective did not converge. You might want to increase the number of iterations. Duality gap: 1.9218453722980438, tolerance: 0.07080580478723406\n",
      "  positive)\n",
      "C:\\Users\\s146958\\AppData\\Local\\Continuum\\anaconda3\\lib\\site-packages\\sklearn\\linear_model\\coordinate_descent.py:475: ConvergenceWarning: Objective did not converge. You might want to increase the number of iterations. Duality gap: 1.5225790971628097, tolerance: 0.07451484357894737\n",
      "  positive)\n",
      "C:\\Users\\s146958\\AppData\\Local\\Continuum\\anaconda3\\lib\\site-packages\\sklearn\\linear_model\\coordinate_descent.py:475: ConvergenceWarning: Objective did not converge. You might want to increase the number of iterations. Duality gap: 2.1029208803659127, tolerance: 0.0728804932631579\n",
      "  positive)\n",
      "C:\\Users\\s146958\\AppData\\Local\\Continuum\\anaconda3\\lib\\site-packages\\sklearn\\linear_model\\coordinate_descent.py:475: ConvergenceWarning: Objective did not converge. You might want to increase the number of iterations. Duality gap: 2.5199865110104156, tolerance: 0.06565973489361702\n",
      "  positive)\n",
      "C:\\Users\\s146958\\AppData\\Local\\Continuum\\anaconda3\\lib\\site-packages\\sklearn\\linear_model\\coordinate_descent.py:475: ConvergenceWarning: Objective did not converge. You might want to increase the number of iterations. Duality gap: 0.849210256908649, tolerance: 0.06037576212765958\n",
      "  positive)\n",
      "C:\\Users\\s146958\\AppData\\Local\\Continuum\\anaconda3\\lib\\site-packages\\sklearn\\linear_model\\coordinate_descent.py:475: ConvergenceWarning: Objective did not converge. You might want to increase the number of iterations. Duality gap: 2.0038964999627153, tolerance: 0.07080580478723406\n",
      "  positive)\n",
      "C:\\Users\\s146958\\AppData\\Local\\Continuum\\anaconda3\\lib\\site-packages\\sklearn\\linear_model\\coordinate_descent.py:475: ConvergenceWarning: Objective did not converge. You might want to increase the number of iterations. Duality gap: 1.0578095659011326, tolerance: 0.07451484357894737\n",
      "  positive)\n",
      "C:\\Users\\s146958\\AppData\\Local\\Continuum\\anaconda3\\lib\\site-packages\\sklearn\\linear_model\\coordinate_descent.py:475: ConvergenceWarning: Objective did not converge. You might want to increase the number of iterations. Duality gap: 1.9657654234382669, tolerance: 0.0728804932631579\n",
      "  positive)\n",
      "C:\\Users\\s146958\\AppData\\Local\\Continuum\\anaconda3\\lib\\site-packages\\sklearn\\linear_model\\coordinate_descent.py:475: ConvergenceWarning: Objective did not converge. You might want to increase the number of iterations. Duality gap: 2.526622007149425, tolerance: 0.06565973489361702\n",
      "  positive)\n",
      "C:\\Users\\s146958\\AppData\\Local\\Continuum\\anaconda3\\lib\\site-packages\\sklearn\\linear_model\\coordinate_descent.py:475: ConvergenceWarning: Objective did not converge. You might want to increase the number of iterations. Duality gap: 0.7812003911352932, tolerance: 0.06037576212765958\n",
      "  positive)\n",
      "C:\\Users\\s146958\\AppData\\Local\\Continuum\\anaconda3\\lib\\site-packages\\sklearn\\linear_model\\coordinate_descent.py:475: ConvergenceWarning: Objective did not converge. You might want to increase the number of iterations. Duality gap: 1.7665578049788888, tolerance: 0.07080580478723406\n",
      "  positive)\n",
      "C:\\Users\\s146958\\AppData\\Local\\Continuum\\anaconda3\\lib\\site-packages\\sklearn\\linear_model\\coordinate_descent.py:475: ConvergenceWarning: Objective did not converge. You might want to increase the number of iterations. Duality gap: 0.9998285899756216, tolerance: 0.07451484357894737\n",
      "  positive)\n",
      "C:\\Users\\s146958\\AppData\\Local\\Continuum\\anaconda3\\lib\\site-packages\\sklearn\\linear_model\\coordinate_descent.py:475: ConvergenceWarning: Objective did not converge. You might want to increase the number of iterations. Duality gap: 1.9595739157803391, tolerance: 0.0728804932631579\n",
      "  positive)\n",
      "C:\\Users\\s146958\\AppData\\Local\\Continuum\\anaconda3\\lib\\site-packages\\sklearn\\linear_model\\coordinate_descent.py:475: ConvergenceWarning: Objective did not converge. You might want to increase the number of iterations. Duality gap: 1.7874065358178952, tolerance: 0.06565973489361702\n",
      "  positive)\n",
      "C:\\Users\\s146958\\AppData\\Local\\Continuum\\anaconda3\\lib\\site-packages\\sklearn\\linear_model\\coordinate_descent.py:475: ConvergenceWarning: Objective did not converge. You might want to increase the number of iterations. Duality gap: 0.7725988609054704, tolerance: 0.06037576212765958\n",
      "  positive)\n",
      "C:\\Users\\s146958\\AppData\\Local\\Continuum\\anaconda3\\lib\\site-packages\\sklearn\\linear_model\\coordinate_descent.py:475: ConvergenceWarning: Objective did not converge. You might want to increase the number of iterations. Duality gap: 1.9165524461654986, tolerance: 0.07080580478723406\n",
      "  positive)\n",
      "C:\\Users\\s146958\\AppData\\Local\\Continuum\\anaconda3\\lib\\site-packages\\sklearn\\linear_model\\coordinate_descent.py:475: ConvergenceWarning: Objective did not converge. You might want to increase the number of iterations. Duality gap: 0.936253385694664, tolerance: 0.07451484357894737\n",
      "  positive)\n",
      "C:\\Users\\s146958\\AppData\\Local\\Continuum\\anaconda3\\lib\\site-packages\\sklearn\\linear_model\\coordinate_descent.py:475: ConvergenceWarning: Objective did not converge. You might want to increase the number of iterations. Duality gap: 1.930703357076152, tolerance: 0.0728804932631579\n",
      "  positive)\n",
      "C:\\Users\\s146958\\AppData\\Local\\Continuum\\anaconda3\\lib\\site-packages\\sklearn\\linear_model\\coordinate_descent.py:475: ConvergenceWarning: Objective did not converge. You might want to increase the number of iterations. Duality gap: 1.0608063289384764, tolerance: 0.06565973489361702\n",
      "  positive)\n",
      "C:\\Users\\s146958\\AppData\\Local\\Continuum\\anaconda3\\lib\\site-packages\\sklearn\\linear_model\\coordinate_descent.py:475: ConvergenceWarning: Objective did not converge. You might want to increase the number of iterations. Duality gap: 1.2475398614923208, tolerance: 0.06037576212765958\n",
      "  positive)\n"
     ]
    },
    {
     "name": "stderr",
     "output_type": "stream",
     "text": [
      "C:\\Users\\s146958\\AppData\\Local\\Continuum\\anaconda3\\lib\\site-packages\\sklearn\\linear_model\\coordinate_descent.py:475: ConvergenceWarning: Objective did not converge. You might want to increase the number of iterations. Duality gap: 2.5983220945268544, tolerance: 0.07080580478723406\n",
      "  positive)\n",
      "C:\\Users\\s146958\\AppData\\Local\\Continuum\\anaconda3\\lib\\site-packages\\sklearn\\linear_model\\coordinate_descent.py:475: ConvergenceWarning: Objective did not converge. You might want to increase the number of iterations. Duality gap: 0.8239510917249149, tolerance: 0.07451484357894737\n",
      "  positive)\n",
      "C:\\Users\\s146958\\AppData\\Local\\Continuum\\anaconda3\\lib\\site-packages\\sklearn\\linear_model\\coordinate_descent.py:475: ConvergenceWarning: Objective did not converge. You might want to increase the number of iterations. Duality gap: 2.0571599337187276, tolerance: 0.0728804932631579\n",
      "  positive)\n",
      "C:\\Users\\s146958\\AppData\\Local\\Continuum\\anaconda3\\lib\\site-packages\\sklearn\\linear_model\\coordinate_descent.py:475: ConvergenceWarning: Objective did not converge. You might want to increase the number of iterations. Duality gap: 0.7562046697554248, tolerance: 0.06565973489361702\n",
      "  positive)\n",
      "C:\\Users\\s146958\\AppData\\Local\\Continuum\\anaconda3\\lib\\site-packages\\sklearn\\linear_model\\coordinate_descent.py:475: ConvergenceWarning: Objective did not converge. You might want to increase the number of iterations. Duality gap: 1.108269377169127, tolerance: 0.06037576212765958\n",
      "  positive)\n",
      "C:\\Users\\s146958\\AppData\\Local\\Continuum\\anaconda3\\lib\\site-packages\\sklearn\\linear_model\\coordinate_descent.py:475: ConvergenceWarning: Objective did not converge. You might want to increase the number of iterations. Duality gap: 2.3579979968902682, tolerance: 0.07080580478723406\n",
      "  positive)\n",
      "C:\\Users\\s146958\\AppData\\Local\\Continuum\\anaconda3\\lib\\site-packages\\sklearn\\linear_model\\coordinate_descent.py:475: ConvergenceWarning: Objective did not converge. You might want to increase the number of iterations. Duality gap: 0.906244248216928, tolerance: 0.07451484357894737\n",
      "  positive)\n",
      "C:\\Users\\s146958\\AppData\\Local\\Continuum\\anaconda3\\lib\\site-packages\\sklearn\\linear_model\\coordinate_descent.py:475: ConvergenceWarning: Objective did not converge. You might want to increase the number of iterations. Duality gap: 0.9809121107387071, tolerance: 0.0728804932631579\n",
      "  positive)\n",
      "C:\\Users\\s146958\\AppData\\Local\\Continuum\\anaconda3\\lib\\site-packages\\sklearn\\linear_model\\coordinate_descent.py:475: ConvergenceWarning: Objective did not converge. You might want to increase the number of iterations. Duality gap: 0.6865569209788909, tolerance: 0.06565973489361702\n",
      "  positive)\n",
      "C:\\Users\\s146958\\AppData\\Local\\Continuum\\anaconda3\\lib\\site-packages\\sklearn\\linear_model\\coordinate_descent.py:475: ConvergenceWarning: Objective did not converge. You might want to increase the number of iterations. Duality gap: 0.5168291951880928, tolerance: 0.06037576212765958\n",
      "  positive)\n",
      "C:\\Users\\s146958\\AppData\\Local\\Continuum\\anaconda3\\lib\\site-packages\\sklearn\\linear_model\\coordinate_descent.py:475: ConvergenceWarning: Objective did not converge. You might want to increase the number of iterations. Duality gap: 0.8012086338293214, tolerance: 0.07080580478723406\n",
      "  positive)\n",
      "C:\\Users\\s146958\\AppData\\Local\\Continuum\\anaconda3\\lib\\site-packages\\sklearn\\linear_model\\coordinate_descent.py:475: ConvergenceWarning: Objective did not converge. You might want to increase the number of iterations. Duality gap: 0.13559049212815477, tolerance: 0.07451484357894737\n",
      "  positive)\n",
      "C:\\Users\\s146958\\AppData\\Local\\Continuum\\anaconda3\\lib\\site-packages\\sklearn\\linear_model\\coordinate_descent.py:475: ConvergenceWarning: Objective did not converge. You might want to increase the number of iterations. Duality gap: 0.2941891277719524, tolerance: 0.0728804932631579\n",
      "  positive)\n",
      "C:\\Users\\s146958\\AppData\\Local\\Continuum\\anaconda3\\lib\\site-packages\\sklearn\\linear_model\\coordinate_descent.py:475: ConvergenceWarning: Objective did not converge. You might want to increase the number of iterations. Duality gap: 0.19332736054282407, tolerance: 0.06565973489361702\n",
      "  positive)\n",
      "C:\\Users\\s146958\\AppData\\Local\\Continuum\\anaconda3\\lib\\site-packages\\sklearn\\linear_model\\coordinate_descent.py:475: ConvergenceWarning: Objective did not converge. You might want to increase the number of iterations. Duality gap: 0.18512956073289288, tolerance: 0.06037576212765958\n",
      "  positive)\n",
      "C:\\Users\\s146958\\AppData\\Local\\Continuum\\anaconda3\\lib\\site-packages\\sklearn\\linear_model\\coordinate_descent.py:475: ConvergenceWarning: Objective did not converge. You might want to increase the number of iterations. Duality gap: 0.2728681378436377, tolerance: 0.07080580478723406\n",
      "  positive)\n",
      "C:\\Users\\s146958\\AppData\\Local\\Continuum\\anaconda3\\lib\\site-packages\\sklearn\\linear_model\\coordinate_descent.py:475: ConvergenceWarning: Objective did not converge. You might want to increase the number of iterations. Duality gap: 0.10230819398670477, tolerance: 0.07451484357894737\n",
      "  positive)\n",
      "C:\\Users\\s146958\\AppData\\Local\\Continuum\\anaconda3\\lib\\site-packages\\sklearn\\linear_model\\coordinate_descent.py:475: ConvergenceWarning: Objective did not converge. You might want to increase the number of iterations. Duality gap: 0.0915755637193314, tolerance: 0.0728804932631579\n",
      "  positive)\n",
      "C:\\Users\\s146958\\AppData\\Local\\Continuum\\anaconda3\\lib\\site-packages\\sklearn\\linear_model\\coordinate_descent.py:475: ConvergenceWarning: Objective did not converge. You might want to increase the number of iterations. Duality gap: 0.07195131021872214, tolerance: 0.06037576212765958\n",
      "  positive)\n",
      "C:\\Users\\s146958\\AppData\\Local\\Continuum\\anaconda3\\lib\\site-packages\\sklearn\\linear_model\\coordinate_descent.py:475: ConvergenceWarning: Objective did not converge. You might want to increase the number of iterations. Duality gap: 0.2622222387965838, tolerance: 0.07080580478723406\n",
      "  positive)\n",
      "C:\\Users\\s146958\\AppData\\Local\\Continuum\\anaconda3\\lib\\site-packages\\sklearn\\linear_model\\coordinate_descent.py:475: ConvergenceWarning: Objective did not converge. You might want to increase the number of iterations. Duality gap: 0.09449259665775855, tolerance: 0.06037576212765958\n",
      "  positive)\n",
      "C:\\Users\\s146958\\AppData\\Local\\Continuum\\anaconda3\\lib\\site-packages\\sklearn\\linear_model\\coordinate_descent.py:475: ConvergenceWarning: Objective did not converge. You might want to increase the number of iterations. Duality gap: 0.14933450524762293, tolerance: 0.07451484357894737\n",
      "  positive)\n"
     ]
    },
    {
     "name": "stdout",
     "output_type": "stream",
     "text": [
      "    mean_fit_time  std_fit_time  mean_score_time  std_score_time  param_alpha  \\\n",
      "0        0.059113  5.435698e-03         0.003201        0.003655       0.0001   \n",
      "1        0.061450  4.461457e-03         0.002602        0.001498  0.000120679   \n",
      "2        0.062782  5.318627e-03         0.001601        0.001357  0.000145635   \n",
      "3        0.057345  9.026513e-03         0.003804        0.003310  0.000175751   \n",
      "4        0.062642  4.725534e-03         0.002602        0.001357  0.000212095   \n",
      "5        0.054183  6.331065e-03         0.001801        0.001601  0.000255955   \n",
      "6        0.055329  7.217107e-03         0.003080        0.000817  0.000308884   \n",
      "7        0.052249  4.568856e-03         0.005002        0.004196  0.000372759   \n",
      "8        0.055004  5.587660e-03         0.001801        0.001471  0.000449843   \n",
      "9        0.056767  7.600513e-03         0.002602        0.001626  0.000542868   \n",
      "10       0.051939  6.778944e-03         0.001201        0.001471  0.000655129   \n",
      "11       0.045518  5.640228e-03         0.003002        0.003689  0.000790604   \n",
      "12       0.048299  7.685580e-03         0.000600        0.001201  0.000954095   \n",
      "13       0.045611  5.969306e-03         0.005201        0.004069    0.0011514   \n",
      "14       0.041388  7.119936e-03         0.002601        0.003878    0.0013895   \n",
      "15       0.044343  4.743961e-03         0.003803        0.001167   0.00167683   \n",
      "16       0.044270  7.893365e-03         0.003800        0.003371   0.00202359   \n",
      "17       0.033110  5.298512e-03         0.002004        0.001678   0.00244205   \n",
      "18       0.022210  5.222714e-03         0.000400        0.000801   0.00294705   \n",
      "19       0.020002  6.325379e-03         0.002000        0.004000   0.00355648   \n",
      "20       0.020471  1.055246e-02         0.001201        0.001601   0.00429193   \n",
      "21       0.014009  4.898200e-03         0.003995        0.004893   0.00517947   \n",
      "22       0.014308  4.683304e-03         0.000600        0.001201   0.00625055   \n",
      "23       0.009865  1.937321e-03         0.003799        0.003366   0.00754312   \n",
      "24       0.007442  8.412776e-04         0.003601        0.001856   0.00910298   \n",
      "25       0.009208  1.167489e-03         0.004201        0.000982    0.0109854   \n",
      "26       0.007206  1.721604e-03         0.003803        0.000749    0.0132571   \n",
      "27       0.006405  2.060649e-03         0.003202        0.000400    0.0159986   \n",
      "28       0.002807  2.319331e-03         0.005202        0.004070     0.019307   \n",
      "29       0.004000  4.899559e-03         0.004000        0.004900    0.0232995   \n",
      "30       0.003797  2.313130e-03         0.004734        0.003465    0.0281177   \n",
      "31       0.005004  6.342227e-04         0.004204        0.001166    0.0339322   \n",
      "32       0.004404  4.897656e-04         0.003602        0.001626    0.0409492   \n",
      "33       0.004004  7.294206e-07         0.003805        0.001168    0.0494171   \n",
      "34       0.005405  1.020330e-03         0.003602        0.001021    0.0596362   \n",
      "35       0.003007  1.091529e-03         0.002002        0.001097    0.0719686   \n",
      "36       0.004001  4.900552e-03         0.000000        0.000000    0.0868511   \n",
      "37       0.008000  4.000115e-03         0.000000        0.000000     0.104811   \n",
      "38       0.004562  4.832607e-03         0.003001        0.003688     0.126486   \n",
      "39       0.002402  4.902324e-04         0.001601        0.000490     0.152642   \n",
      "40       0.001001  1.266063e-03         0.002806        0.003709     0.184207   \n",
      "41       0.000000  0.000000e+00         0.004001        0.004900       0.2223   \n",
      "42       0.000000  0.000000e+00         0.004000        0.004900      0.26827   \n",
      "43       0.004000  4.899500e-03         0.002000        0.004000     0.323746   \n",
      "44       0.008001  4.000425e-03         0.001988        0.003977     0.390694   \n",
      "45       0.005605  2.060311e-03         0.003802        0.000749     0.471487   \n",
      "46       0.006605  1.856024e-03         0.005003        0.001265     0.568987   \n",
      "47       0.006405  1.744445e-03         0.004405        0.001359     0.686649   \n",
      "48       0.006205  1.599844e-03         0.003402        0.000489     0.828643   \n",
      "49       0.005607  1.359884e-03         0.004600        0.001357            1   \n",
      "\n",
      "                               params  split0_test_score  split1_test_score  \\\n",
      "0                   {'alpha': 0.0001}           0.134641          -0.141364   \n",
      "1   {'alpha': 0.00012067926406393288}           0.149789          -0.159935   \n",
      "2   {'alpha': 0.00014563484775012445}           0.136977          -0.149842   \n",
      "3   {'alpha': 0.00017575106248547912}           0.103270          -0.149375   \n",
      "4   {'alpha': 0.00021209508879201905}           0.092638          -0.150464   \n",
      "5    {'alpha': 0.0002559547922699536}           0.107530          -0.165091   \n",
      "6   {'alpha': 0.00030888435964774815}           0.113321          -0.166692   \n",
      "7    {'alpha': 0.0003727593720314938}           0.112421          -0.171304   \n",
      "8    {'alpha': 0.0004498432668969444}           0.120097          -0.174094   \n",
      "9    {'alpha': 0.0005428675439323859}           0.138448          -0.181771   \n",
      "10   {'alpha': 0.0006551285568595509}           0.140005          -0.191524   \n",
      "11   {'alpha': 0.0007906043210907702}           0.141006          -0.225324   \n",
      "12   {'alpha': 0.0009540954763499944}           0.135574          -0.241303   \n",
      "13   {'alpha': 0.0011513953993264468}           0.134115          -0.243674   \n",
      "14   {'alpha': 0.0013894954943731374}           0.140885          -0.178764   \n",
      "15   {'alpha': 0.0016768329368110067}           0.163719          -0.104901   \n",
      "16   {'alpha': 0.0020235896477251557}           0.212906          -0.044332   \n",
      "17   {'alpha': 0.0024420530945486497}           0.258319           0.002198   \n",
      "18   {'alpha': 0.0029470517025518097}           0.287021           0.010685   \n",
      "19   {'alpha': 0.0035564803062231283}           0.337017          -0.006053   \n",
      "20    {'alpha': 0.004291934260128779}           0.410935           0.011701   \n",
      "21    {'alpha': 0.005179474679231213}           0.445706           0.046949   \n",
      "22   {'alpha': 0.0062505519252739694}           0.468611           0.109361   \n",
      "23    {'alpha': 0.007543120063354615}           0.471466           0.172373   \n",
      "24    {'alpha': 0.009102981779915217}           0.490239           0.240978   \n",
      "25    {'alpha': 0.010985411419875584}           0.501398           0.313527   \n",
      "26    {'alpha': 0.013257113655901081}           0.511185           0.332509   \n",
      "27    {'alpha': 0.015998587196060572}           0.529873           0.345206   \n",
      "28    {'alpha': 0.019306977288832496}           0.541188           0.348348   \n",
      "29    {'alpha': 0.023299518105153717}           0.537225           0.354817   \n",
      "30     {'alpha': 0.02811768697974228}           0.533687           0.343841   \n",
      "31    {'alpha': 0.033932217718953266}           0.515096           0.322245   \n",
      "32    {'alpha': 0.040949150623804234}           0.483870           0.299521   \n",
      "33     {'alpha': 0.04941713361323833}           0.457877           0.273569   \n",
      "34     {'alpha': 0.05963623316594643}           0.424265           0.244125   \n",
      "35     {'alpha': 0.07196856730011514}           0.379136           0.198147   \n",
      "36     {'alpha': 0.08685113737513521}           0.317436           0.135133   \n",
      "37     {'alpha': 0.10481131341546852}           0.232430           0.061861   \n",
      "38     {'alpha': 0.12648552168552957}           0.130895          -0.018777   \n",
      "39     {'alpha': 0.15264179671752318}          -0.001229          -0.129104   \n",
      "40     {'alpha': 0.18420699693267145}          -0.001229          -0.140585   \n",
      "41     {'alpha': 0.22229964825261933}          -0.001229          -0.140585   \n",
      "42      {'alpha': 0.2682695795279725}          -0.001229          -0.140585   \n",
      "43     {'alpha': 0.32374575428176433}          -0.001229          -0.140585   \n",
      "44      {'alpha': 0.3906939937054613}          -0.001229          -0.140585   \n",
      "45     {'alpha': 0.47148663634573895}          -0.001229          -0.140585   \n",
      "46      {'alpha': 0.5689866029018293}          -0.001229          -0.140585   \n",
      "47      {'alpha': 0.6866488450042998}          -0.001229          -0.140585   \n",
      "48      {'alpha': 0.8286427728546842}          -0.001229          -0.140585   \n",
      "49                     {'alpha': 1.0}          -0.001229          -0.140585   \n",
      "\n",
      "    split2_test_score  split3_test_score  split4_test_score  mean_test_score  \\\n",
      "0           -0.597314          -2.412739          -0.791716        -0.747452   \n",
      "1           -0.628358          -2.568160          -0.836084        -0.793404   \n",
      "2           -0.648965          -2.795148          -0.852148        -0.845523   \n",
      "3           -0.661436          -2.908783          -0.876145        -0.881647   \n",
      "4           -0.694997          -3.044090          -0.909056        -0.923645   \n",
      "5           -0.730155          -3.148739          -0.858524        -0.941290   \n",
      "6           -0.728247          -3.333613          -0.791220        -0.962966   \n",
      "7           -0.695529          -3.527790          -0.804564        -0.997882   \n",
      "8           -0.666435          -3.527014          -0.795572        -0.989066   \n",
      "9           -0.667398          -3.368106          -0.737301        -0.944760   \n",
      "10          -0.711051          -3.210863          -0.657215        -0.909046   \n",
      "11          -0.783305          -3.073851          -0.602518        -0.893046   \n",
      "12          -0.752153          -2.897844          -0.512938        -0.839298   \n",
      "13          -0.679760          -2.712222          -0.413587        -0.769807   \n",
      "14          -0.579434          -2.501635          -0.288333        -0.669363   \n",
      "15          -0.489098          -2.260782          -0.181783        -0.563608   \n",
      "16          -0.388440          -2.017672          -0.094255        -0.456365   \n",
      "17          -0.242871          -1.936526          -0.015723        -0.376934   \n",
      "18          -0.052940          -1.867681           0.033862        -0.307656   \n",
      "19           0.091604          -1.799854           0.076152        -0.250030   \n",
      "20           0.202193          -1.717846           0.071705        -0.193774   \n",
      "21           0.298825          -1.659401           0.057541        -0.151248   \n",
      "22           0.383730          -1.624412           0.084769        -0.104500   \n",
      "23           0.445522          -1.607446           0.102705        -0.071732   \n",
      "24           0.464310          -1.531038           0.153736        -0.025299   \n",
      "25           0.460942          -1.392176           0.189044         0.024990   \n",
      "26           0.477976          -1.209846           0.210272         0.073982   \n",
      "27           0.481020          -0.991346           0.227844         0.126998   \n",
      "28           0.473415          -0.802867           0.252790         0.169992   \n",
      "29           0.455163          -0.608195           0.281937         0.210415   \n",
      "30           0.420842          -0.400584           0.297984         0.244077   \n",
      "31           0.406872          -0.276622           0.313197         0.260189   \n",
      "32           0.403267          -0.177101           0.324343         0.270054   \n",
      "33           0.388596          -0.143301           0.336864         0.265533   \n",
      "34           0.365537          -0.118955           0.343683         0.254093   \n",
      "35           0.334048          -0.103269           0.318296         0.227268   \n",
      "36           0.290217          -0.093430           0.268000         0.185101   \n",
      "37           0.228838          -0.092613           0.213712         0.130003   \n",
      "38           0.166171          -0.106845           0.155929         0.066168   \n",
      "39           0.069499          -0.158333           0.063611        -0.030836   \n",
      "40          -0.026441          -0.256111          -0.040351        -0.092006   \n",
      "41          -0.026441          -0.256874          -0.040351        -0.092155   \n",
      "42          -0.026441          -0.256874          -0.040351        -0.092155   \n",
      "43          -0.026441          -0.256874          -0.040351        -0.092155   \n",
      "44          -0.026441          -0.256874          -0.040351        -0.092155   \n",
      "45          -0.026441          -0.256874          -0.040351        -0.092155   \n",
      "46          -0.026441          -0.256874          -0.040351        -0.092155   \n",
      "47          -0.026441          -0.256874          -0.040351        -0.092155   \n",
      "48          -0.026441          -0.256874          -0.040351        -0.092155   \n",
      "49          -0.026441          -0.256874          -0.040351        -0.092155   \n",
      "\n",
      "    std_test_score  rank_test_score  \n",
      "0         0.882310               37  \n",
      "1         0.939354               39  \n",
      "2         1.021526               41  \n",
      "3         1.056974               42  \n",
      "4         1.103959               45  \n",
      "5         1.143006               46  \n",
      "6         1.215293               48  \n",
      "7         1.289618               50  \n",
      "8         1.291998               49  \n",
      "9         1.235211               47  \n",
      "10        1.175419               44  \n",
      "11        1.119848               43  \n",
      "12        1.055608               40  \n",
      "13        0.992108               38  \n",
      "14        0.931019               36  \n",
      "15        0.861028               35  \n",
      "16        0.792004               34  \n",
      "17        0.783899               33  \n",
      "18        0.776421               32  \n",
      "19        0.771268               31  \n",
      "20        0.762454               30  \n",
      "21        0.757301               29  \n",
      "22        0.762791               28  \n",
      "23        0.769527               17  \n",
      "24        0.751933               15  \n",
      "25        0.706014               14  \n",
      "26        0.640741               12  \n",
      "27        0.560311               11  \n",
      "28        0.488911                9  \n",
      "29        0.412021                7  \n",
      "30        0.327123                5  \n",
      "31        0.274027                3  \n",
      "32        0.229416                1  \n",
      "33        0.210212                2  \n",
      "34        0.192681                4  \n",
      "35        0.173473                6  \n",
      "36        0.150924                8  \n",
      "37        0.126848               10  \n",
      "38        0.108437               13  \n",
      "39        0.095378               16  \n",
      "40        0.093806               18  \n",
      "41        0.094066               19  \n",
      "42        0.094066               19  \n",
      "43        0.094066               19  \n",
      "44        0.094066               19  \n",
      "45        0.094066               19  \n",
      "46        0.094066               19  \n",
      "47        0.094066               19  \n",
      "48        0.094066               19  \n",
      "49        0.094066               19  \n"
     ]
    },
    {
     "name": "stderr",
     "output_type": "stream",
     "text": [
      "C:\\Users\\s146958\\AppData\\Local\\Continuum\\anaconda3\\lib\\site-packages\\sklearn\\model_selection\\_search.py:813: DeprecationWarning: The default of the `iid` parameter will change from True to False in version 0.22 and will be removed in 0.24. This will change numeric results when test-set sizes are unequal.\n",
      "  DeprecationWarning)\n"
     ]
    }
   ],
   "source": [
    "import numpy as np\n",
    "import pandas as pd\n",
    "from sklearn.model_selection import train_test_split \n",
    "from sklearn.model_selection import GridSearchCV\n",
    "from sklearn.linear_model import Lasso\n",
    "\n",
    "gene_expression = pd.read_csv(\"./data/RNA_expression_curated.csv\", sep=',', header=0, index_col=0)\n",
    "drug_response = pd.read_csv(\"./data/drug_response_curated.csv\", sep=',', header=0, index_col=0)\n",
    "\n",
    "X_train,X_test,y_train,y_test=train_test_split(gene_expression,drug_response, test_size=0.2, random_state=42)\n",
    "\n",
    "param = {'alpha':np.logspace(-4,0,50)}\n",
    "lasso = Lasso(normalize=True, fit_intercept=True)\n",
    "grid = GridSearchCV(lasso, param, cv = 5, refit=True)  #find the optimum degree, 5-fold cross-validation\n",
    "grid.fit(X_train,y_train)\n",
    "values = grid.cv_results_\n",
    "model = grid.best_estimator_\n",
    "print(pd.DataFrame(values))\n"
   ]
  },
  {
   "cell_type": "markdown",
   "metadata": {},
   "source": [
    "\n",
    "## Feature selection\n",
    "\n",
    "Look at the features selected using the hyperparameter which corresponds to the minimum cross-validation error.\n",
    "\n",
    "<p><font color='#770a0a'>Is the partition in training and validation sets playing a role in the selection of the hyperparameter? How will this affect the selection of the relevant features?</font></p>\n",
    "\n",
    "cv = 2 --> a=0.02811768697974228 (7 features)   -5.65146983\n",
    "cv = 3 --> a=0.04941713361323833  (3 features)  -4.99667904\n",
    "cv = 4 --> a=0.040949150623804234\n",
    "cv = 5 --> a=0.033932217718953266 (6 features)  -5.33457867\n",
    "cv = 6 --> a=0.04941713361323833\n",
    "cv = 10--> a=0.02811768697974228\n",
    "cv = 20--> a=0.02811768697974228 (7 features) -5.01019\n",
    "\n",
    "\n",
    "When looking at the data, if the fold of cross-validation increases the training set will also increase in size. With this in mind, the validation set will become lower. This results in the fact that when a higher fold is chosen the better the estimation is of the hyperparameter. But take in consideration that if the training test will become too high relative to the validation set, the data will get overfitting. However it better to choose the highest hyperparameter that is in range of 1 standard error of the minimum of the MSE. \n",
    "\n",
    "When the training set will be low or high in size the hyperparameter will become lower. And this gives as a result more relevant features that will be used. Also there will be more coefficients when the hyperparameter drops. This could be a case of underfitting and overfitting respectively.\n",
    "\n",
    "What you can see is that the lowest hyperparameter uses more features than a higher parameter. \n",
    "\n"
   ]
  },
  {
   "cell_type": "markdown",
   "metadata": {},
   "source": [
    "\n",
    "<p><font color='#770a0a'>Should the value of the intercept also be shrunk to zero with Lasso and Ridge regression? Motivate your answer.</font></p>\n",
    "\n",
    "Gene expression of an average cancer cell line should give a negative z-score, because it is normal that a cancer cell is sensitive towards a drug and not resistant. \n",
    "When a model is fitted on data that is normalized around zero, then the intercept would give the z-score of a zero input. A zero input in this case should give a negative z-score as the average cancer cell line is sensitive to a drug.\n",
    "This also results from running the code with higher cross-validation folds, when the intercept does not shrink to 0, but -5."
   ]
  },
  {
   "cell_type": "markdown",
   "metadata": {},
   "source": []
  },
  {
   "cell_type": "markdown",
   "metadata": {},
   "source": [
    "## Logistic regression\n",
    "\n",
    "<p><font color='#770a0a'>Write the expression of the objective function for the penalized logistic regression with $L_1$ and $L_2$ regularisation (as in Elastic net).</font></p>\n"
   ]
  },
  {
   "cell_type": "markdown",
   "metadata": {},
   "source": [
    "1/(2*n_samples) * ||y-Xw||^2 + alpha * ( L1_ratio * ||w||^2 +(1 - L1_ratio) * ||w|| )"
   ]
  }
 ],
 "metadata": {
  "kernelspec": {
   "display_name": "Python 3",
   "language": "python",
   "name": "python3"
  },
  "language_info": {
   "codemirror_mode": {
    "name": "ipython",
    "version": 3
   },
   "file_extension": ".py",
   "mimetype": "text/x-python",
   "name": "python",
   "nbconvert_exporter": "python",
   "pygments_lexer": "ipython3",
   "version": "3.7.3"
  }
 },
 "nbformat": 4,
 "nbformat_minor": 2
}
