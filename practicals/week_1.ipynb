{
 "cells": [
  {
   "cell_type": "markdown",
   "metadata": {},
   "source": [
    "# Getting started with the practicals\n",
    "\n",
    "***These notebooks are best viewed in Jupyter. GitHub might not display all content of the notebook properly.***\n",
    "\n",
    "## Goal of the practical exercises\n",
    "\n",
    "The exercises have two goals:\n",
    "\n",
    "1. Give you the opportunity to obtain 'hands-on' experience in implementing, training and evaluation machine learning models in Python. This experience will also help you better understand the theory covered during the lectures. \n",
    "\n",
    "2. Occasionally demonstrate some 'exam-style' questions that you can use as a reference when studying for the exam. Note however that the example questions are (as the name suggests) only examples and do not constitute a complete and sufficient list of 'things that you have to learn for the exam'. You can recognize example questions as (parts of) exercises by <font color=\"#770a0a\">this font color</font>.\n",
    "\n",
    "For each set of exercises (one Python notebook such as this one $==$ one set of exercises) you have to submit deliverables that will then be graded and constitute 25% of the final grade. Thus, the work that you do during the practicals has double contribution towards the final grade: as 30% direct contribution and as a preparation for the exam that will define the other 65% of the grade.\n",
    "\n",
    "## Deliverables\n",
    "\n",
    "For each set of exercises, you have to submit:\n",
    "1. Python functions and/or classes (`.py` files) that implement basic functionalities (e.g. a $k$-NN classifier) and \n",
    "2. A *single* Python notebook that contains the experiments, visualization and answer to the questions and math problems. *Do not submit your answers as Word or PDF documents (they will not be graded)*. The submitted code and notebook should run without errors and be able to fully reproduce the reported results.\n",
    "\n",
    "We recommend that you clone the provided notebooks (such as this one) and write your code in them. The following rubric will be used when grading the practical work:\n",
    "\n",
    "Component  | Insufficient | Satisfactory | Excellent\n",
    "--- | --- | --- | ---\n",
    "**Code** | Missing or incomplete code structure, runs with errors, lacks documentation | Self-contained, does not result in errors, contains some documentation, can be easily used to reproduce the reported results | User-friendly, well-structured (good separation of general functionality and experiments, i.e. between `.py` files and the Pyhthon notebook), detailed documentation, optimized for speed, use of a version control system (such as GitHub)\n",
    "**Answers to questions** | Incorrect, does not convey understanding of the material, appears to be copied from another source | Correct, conveys good understanding of the material, description in own words | Correct, conveys excellent level of understanding, makes connections between topics\n",
    "\n",
    "## A word on notation\n",
    "\n",
    "When we refer to Python variables, we will use a monospace font. For example, `X` is a Python variable that contains the data matrix. When we refer to mathematical variables, we will use the de-facto standard notation: $a$ or $\\lambda$ is a scalar variable, $\\boldsymbol{\\mathrm{w}}$ is a vector and $\\boldsymbol{\\mathrm{X}}$ is a matrix (e.g. a data matrix from the example above). You should use the same notation when writing your answers and solutions.\n",
    "\n",
    "# Two simple machine learning models\n",
    "\n",
    "## Preliminaries\n",
    "\n",
    "Throughout the practical curriculum of this course, we will use the Python programming language and its ecosystem of libraries for scientific computing (such as `numpy`, `scipy`, `matplotlib`, `scikit-learn` etc). The practicals for the deep learning part of the course will use the `keras` deep learning framework. If you are not sufficiently familiar with this programming language and/or the listed libraries and packages, you are strongly advised to go over the corresponding tutorials from the ['Essential skills'](https://github.com/tueimage/essential-skills) module (the `scikit-learn` library is not covered by the tutorial, however, an extensive documentation is available [here](https://scikit-learn.org/stable/documentation.html).\n",
    "\n",
    "In this first set of exercises, we will use two toy datasets that ship together with `scikit-learn`. \n",
    "\n",
    "The first dataset is named `diabetes` and contains 442 patients described with 10 features: age, sex, body mass index, average blood pressure, and six blood serum measurements. The target variable is a continuous quantitative measure of the disease (diabetes) progression one year after the baseline measurements were recorded. More information is available [here](https://github.com/scikit-learn/scikit-learn/blob/master/sklearn/datasets/descr/diabetes.rst) and [here](https://www4.stat.ncsu.edu/~boos/var.select/diabetes.html).\n",
    "\n",
    "The second dataset is named `breast_cancer` and is a copy of the UCI ML Breast Cancer Wisconsin (Diagnostic) datasets (more infortmation is available [here](https://github.com/scikit-learn/scikit-learn/blob/master/sklearn/datasets/descr/breast_cancer.rst) and [here](https://archive.ics.uci.edu/ml/datasets/Breast+Cancer+Wisconsin+(Diagnostic)). The datasets contains of 569 instances represented with 30 features that are computed from a images of a fine needle aspirate of a breast mass. The features describe characteristics of the cell nuclei present in the image. Each instance is associated with a binary target variable ('malignant' or 'benign'). \n",
    "\n",
    "You can load the two datasets in the following way:"
   ]
  },
  {
   "cell_type": "code",
<<<<<<< HEAD
   "execution_count": 22,
=======
   "execution_count": 1,
>>>>>>> 257bdf16c0296fd6ce5c8b7277adf11ccb0a930f
   "metadata": {},
   "outputs": [],
   "source": [
    "import numpy as np\n",
    "from sklearn.datasets import load_diabetes, load_breast_cancer\n",
    "\n",
    "diabetes = load_diabetes()\n",
    "\n",
    "breast_cancer = load_breast_cancer()\n"
   ]
  },
  {
   "cell_type": "markdown",
   "metadata": {},
   "source": [
    "In the majority of the exercises in this course, we will use higher-level libraries and packages such as `scikit-learn` and `keras` to implement, train and evaluate machine learning models. However, the goal of this first set of exercises is to illustrate basic mathematical tools and machine learning concepts. Because of this, we will impose a restriction of only using basic `numpy` functionality. Furthermore, you should as much as possible restrict the use of for-loops (e.g. use a vector-to-matrix product instead of a for loop when appropriate).\n",
    "\n",
    "If `X` is a 2D data matrix, we will use the convention that the rows of the matrix contain the samples (or instances) and the columns contain the features (inputs to the model). That means that a data matrix with a shape `(122, 13)` represents a dataset with 122 samples, each represented with 13 features. Similarly, if `Y` is a 2D matrix containing the targets, the rows correspond to the samples and the columns to the different targets (outputs of the model). Thus, if the shape of `Y` is `(122, 3)` that means that there are 122 samples and each sample is has 3 targets (note that in the majority of the examples we will only have a single target and thus the number of columns of `Y` will be 1).\n",
    "\n",
    "You can obtain the data and target matrices from the two datasets in the following way:"
   ]
  },
  {
   "cell_type": "code",
<<<<<<< HEAD
   "execution_count": 23,
=======
   "execution_count": 2,
>>>>>>> 257bdf16c0296fd6ce5c8b7277adf11ccb0a930f
   "metadata": {},
   "outputs": [
    {
     "name": "stdout",
     "output_type": "stream",
     "text": [
      "(442, 10)\n",
      "(442, 1)\n"
     ]
    }
   ],
   "source": [
    "X = diabetes.data\n",
    "Y = diabetes.target[:, np.newaxis]\n",
    "\n",
    "print(X.shape)\n",
    "print(Y.shape)"
   ]
  },
  {
   "cell_type": "markdown",
   "metadata": {},
   "source": [
    "If you want to only use a subset of the available features, you can obtain a reduced data matrix in the following way:"
   ]
  },
  {
   "cell_type": "code",
<<<<<<< HEAD
   "execution_count": 24,
=======
   "execution_count": 3,
>>>>>>> 257bdf16c0296fd6ce5c8b7277adf11ccb0a930f
   "metadata": {
    "scrolled": true
   },
   "outputs": [
    {
     "name": "stdout",
     "output_type": "stream",
     "text": [
      "(442, 1)\n",
      "(442, 2)\n"
     ]
    }
   ],
   "source": [
    "# use only the fourth feature\n",
    "X = diabetes.data[:, np.newaxis, 3]\n",
    "print(X.shape)\n",
    "\n",
    "# use the third, and tenth features\n",
    "X = diabetes.data[:, (3,9)]\n",
    "print(X.shape)"
   ]
  },
  {
   "cell_type": "markdown",
   "metadata": {},
   "source": [
    "***Question***: Why we need to use the `np.newaxis` expression in the examples above? \n",
    "\n",
    "Note that in all your experiments in the exercises, you should use and independent training and testing sets. You can split the dataset into a training and testing subsets in the following way:"
   ]
  },
  {
   "cell_type": "code",
<<<<<<< HEAD
   "execution_count": 25,
=======
   "execution_count": 8,
>>>>>>> 257bdf16c0296fd6ce5c8b7277adf11ccb0a930f
   "metadata": {},
   "outputs": [
    {
     "name": "stdout",
     "output_type": "stream",
     "text": [
      "(300, 1)\n",
      "(300, 1)\n",
      "(142, 1)\n",
      "(142, 1)\n"
     ]
    }
   ],
   "source": [
    "# use the fourth feature\n",
    "# use the first 300 training samples for training, and the rest for testing\n",
    "X_train = diabetes.data[:300, np.newaxis, 3]\n",
    "y_train = diabetes.target[:300, np.newaxis]\n",
    "X_test = diabetes.data[300:, np.newaxis, 3]\n",
    "y_test = diabetes.target[300:, np.newaxis]\n",
    "print(X_train.shape)\n",
    "print(y_train.shape)\n",
    "print(X_test.shape)\n",
    "print(y_test.shape)"
   ]
  },
  {
   "cell_type": "markdown",
   "metadata": {},
   "source": [
    "## Exercises\n",
    "\n",
    "### Linear regression\n",
    "\n",
    "Implement training and evaluation of a linear regression model on the diabetes dataset using only matrix multiplication, inversion and transpose operations. Report the mean squared error of the model.\n",
    "\n",
    "To get you started we have implemented the first part of this exercise (fitting of the model) as an example."
   ]
  },
  {
   "cell_type": "code",
<<<<<<< HEAD
   "execution_count": 26,
=======
   "execution_count": 9,
>>>>>>> 257bdf16c0296fd6ce5c8b7277adf11ccb0a930f
   "metadata": {},
   "outputs": [
    {
     "name": "stdout",
     "output_type": "stream",
     "text": [
      "[[2794.5690145]]\n"
     ]
    }
   ],
   "source": [
    "# add subfolder that contains all the function implementations\n",
    "# to the system path so we can import them\n",
    "import sys\n",
    "sys.path.append('code/')\n",
    "\n",
    "# the actual implementation is in linear_regression.py,\n",
    "# here we will just use it to fit a model\n",
    "from linear_regression import *\n",
    "\n",
    "# load the dataset\n",
    "# same as before, but now we use all features\n",
    "X_train = diabetes.data[:300, :]\n",
    "y_train = diabetes.target[:300, np.newaxis]\n",
    "X_test = diabetes.data[300:, :]\n",
    "y_test = diabetes.target[300:, np.newaxis]\n",
    "\n",
    "beta = lsq(X_train, y_train)\n",
    "\n",
    "#print the parameters\n",
    "#print(beta)\n",
    "\n",
    "X_test2 = np.insert(X_test, 0, 1, axis=1)       #add column of ones\n",
    "Y_pred = np.dot(X_test2,beta)\n",
    "Err = np.subtract(y_test,Y_pred)\n",
    "MSE = np.dot(Err.T, Err)/len(X_test)\n",
    "\n",
    "print(MSE)"
   ]
  },
  {
   "cell_type": "markdown",
   "metadata": {},
   "source": [
    "### Weighted linear regression\n",
    "\n",
    "Assume that in the dataset that you use to train a linear regression model, there are identical versions of some samples. This problem can be reformulated to a weighted linear regression problem where the matrices $\\boldsymbol{\\mathrm{X}}$ and $\\boldsymbol{\\mathrm{Y}}$ (or the vector $\\boldsymbol{\\mathrm{y}}$ if there is only a single target/output variable) contain only the unique data samples, and a vector $\\boldsymbol{\\mathrm{d}}$ is introduced that gives more weight to samples that appear multiple times in the original dataset (for example, the sample that appears 3 times has a corresponding weight of 3). \n",
    "\n",
    "<p><font color='#770a0a'>Derive the expression for the least-squares solution of a weighted linear regression model (note that in addition to the matrices $\\boldsymbol{\\mathrm{X}}$ and $\\boldsymbol{\\mathrm{Y}}$, the solution should include a vector of weights $\\boldsymbol{\\mathrm{d}}$).</font></p>"
   ]
  },
  {
   "cell_type": "markdown",
   "metadata": {},
   "source": [
    "\\begin{align}\n",
    "WRRS(\\mathbf{w}) & = \\sum_{i=1}^N \\mathbf{d}(y_i - \\mathbf{x}_i\\mathbf{w})^2 \\\\\n",
    "\\end{align}\n",
    "\n",
    "The matrix notation:\n",
    "\\begin{align}\n",
    "WRRS(\\mathbf{w}) & = (\\mathbf{y} - \\mathbf{Xw})^T\\mathbf{d}(\\mathbf{y}-\\mathbf{Xw}) \\\\\n",
    "\\end{align}\n",
    "\n",
    "Differentiate with respect to w\n",
    "\\begin{align}\n",
    "-2\\mathbf{dX}^T(\\mathbf{y}-\\mathbf{Xw}) \\\\\n",
    "\\end{align}\n",
    "\n",
    "To ﬁnd the minimum our derivative must be 0, hence: \n",
    "$$\n",
    "\\begin{align}\n",
    "    \\ -2\\mathbf{dX}^T(\\mathbf{y}-\\mathbf{Xw}) = 0 \\\\\n",
    "    \\ \\mathbf{dX}^T\\mathbf{y}-\\mathbf{dX}^T\\mathbf{Xw} = 0 \\\\\n",
    "    \\ \\mathbf{dX}^T\\mathbf{y} = \\mathbf{dX}^T\\mathbf{Xw} \\\\\n",
    "    \\ \\mathbf{w} = (\\mathbf{dX}^T\\mathbf{X})^{-1}\\mathbf{dX}^T\\mathbf{Y}\n",
    "\\end{align}\n",
    "$$\n"
   ]
  },
  {
   "cell_type": "markdown",
   "metadata": {},
   "source": [
    "### $k$-NN classification\n",
    "\n",
    "Implement a $k$-Nearest neighbors classifier from scratch in Python using only basic matrix operations with `numpy` and `scipy`. Train and evaluate the classifier on the breast cancer dataset, using all features. Show the performance of the classifier for different values of $k$ (plot the results in a graph). Note that for optimal results, you should normalize the features (e.g. to the $[0, 1]$ range or to have a zero mean and unit standard deviation)."
   ]
  },
  {
   "cell_type": "code",
<<<<<<< HEAD
   "execution_count": 32,
   "metadata": {},
   "outputs": [
    {
     "ename": "NameError",
     "evalue": "name 'np' is not defined",
     "output_type": "error",
     "traceback": [
      "\u001b[1;31m---------------------------------------------------------------------------\u001b[0m",
      "\u001b[1;31mNameError\u001b[0m                                 Traceback (most recent call last)",
      "\u001b[1;32m<ipython-input-32-06a56a8f7e2c>\u001b[0m in \u001b[0;36m<module>\u001b[1;34m\u001b[0m\n\u001b[0;32m     15\u001b[0m \u001b[0my_test\u001b[0m \u001b[1;33m=\u001b[0m \u001b[0mbreast_cancer\u001b[0m\u001b[1;33m.\u001b[0m\u001b[0mtarget\u001b[0m\u001b[1;33m[\u001b[0m\u001b[1;36m350\u001b[0m\u001b[1;33m:\u001b[0m\u001b[1;33m,\u001b[0m \u001b[0mnp\u001b[0m\u001b[1;33m.\u001b[0m\u001b[0mnewaxis\u001b[0m\u001b[1;33m]\u001b[0m\u001b[1;33m\u001b[0m\u001b[1;33m\u001b[0m\u001b[0m\n\u001b[0;32m     16\u001b[0m \u001b[1;33m\u001b[0m\u001b[0m\n\u001b[1;32m---> 17\u001b[1;33m \u001b[0mpredicted_labels\u001b[0m \u001b[1;33m=\u001b[0m \u001b[0mkNN_test\u001b[0m\u001b[1;33m(\u001b[0m\u001b[0mX_train\u001b[0m\u001b[1;33m,\u001b[0m \u001b[0mX_test\u001b[0m\u001b[1;33m,\u001b[0m \u001b[0my_train\u001b[0m\u001b[1;33m,\u001b[0m \u001b[0my_test\u001b[0m\u001b[1;33m,\u001b[0m \u001b[1;36m5\u001b[0m\u001b[1;33m)\u001b[0m\u001b[1;33m\u001b[0m\u001b[1;33m\u001b[0m\u001b[0m\n\u001b[0m\u001b[0;32m     18\u001b[0m \u001b[0mprint\u001b[0m \u001b[1;33m(\u001b[0m\u001b[0mpredicted_labels\u001b[0m\u001b[1;33m)\u001b[0m\u001b[1;33m\u001b[0m\u001b[1;33m\u001b[0m\u001b[0m\n\u001b[0;32m     19\u001b[0m \u001b[1;33m\u001b[0m\u001b[0m\n",
      "\u001b[1;32m~\\8dm40-machine-learning\\practicals\\code\\def_of_week_1.py\u001b[0m in \u001b[0;36mkNN_test\u001b[1;34m(X_train, X_test, Y_train, Y_test, k)\u001b[0m\n\u001b[0;32m     37\u001b[0m         \u001b[1;32melse\u001b[0m\u001b[1;33m:\u001b[0m\u001b[1;33m\u001b[0m\u001b[1;33m\u001b[0m\u001b[0m\n\u001b[0;32m     38\u001b[0m             \u001b[0mlabelPrediction\u001b[0m\u001b[1;33m[\u001b[0m\u001b[0my_train\u001b[0m\u001b[1;33m[\u001b[0m\u001b[0mclosest_neighbors\u001b[0m\u001b[1;33m[\u001b[0m\u001b[0mi\u001b[0m\u001b[1;33m]\u001b[0m\u001b[1;33m]\u001b[0m\u001b[1;33m[\u001b[0m\u001b[1;36m0\u001b[0m\u001b[1;33m]\u001b[0m\u001b[1;33m]\u001b[0m \u001b[1;33m=\u001b[0m \u001b[1;36m1\u001b[0m\u001b[1;33m\u001b[0m\u001b[1;33m\u001b[0m\u001b[0m\n\u001b[1;32m---> 39\u001b[1;33m     \u001b[0msortedLabelPrediction\u001b[0m \u001b[1;33m=\u001b[0m \u001b[0msorted\u001b[0m\u001b[1;33m(\u001b[0m\u001b[0mlabelPrediction\u001b[0m\u001b[1;33m.\u001b[0m\u001b[0mitems\u001b[0m\u001b[1;33m(\u001b[0m\u001b[1;33m)\u001b[0m\u001b[1;33m,\u001b[0m \u001b[0mkey\u001b[0m\u001b[1;33m=\u001b[0m\u001b[0moperator\u001b[0m\u001b[1;33m.\u001b[0m\u001b[0mitemgetter\u001b[0m\u001b[1;33m(\u001b[0m\u001b[1;36m1\u001b[0m\u001b[1;33m)\u001b[0m\u001b[1;33m,\u001b[0m \u001b[0mreverse\u001b[0m\u001b[1;33m=\u001b[0m\u001b[1;32mTrue\u001b[0m\u001b[1;33m)\u001b[0m\u001b[1;33m\u001b[0m\u001b[1;33m\u001b[0m\u001b[0m\n\u001b[0m\u001b[0;32m     40\u001b[0m     \u001b[1;32mreturn\u001b[0m \u001b[0msortedLabelPrediction\u001b[0m\u001b[1;33m[\u001b[0m\u001b[1;36m0\u001b[0m\u001b[1;33m]\u001b[0m\u001b[1;33m[\u001b[0m\u001b[1;36m0\u001b[0m\u001b[1;33m]\u001b[0m        \u001b[1;31m# gives the most in common label\u001b[0m\u001b[1;33m\u001b[0m\u001b[1;33m\u001b[0m\u001b[0m\n\u001b[0;32m     41\u001b[0m \u001b[1;33m\u001b[0m\u001b[0m\n",
      "\u001b[1;32m~\\8dm40-machine-learning\\practicals\\code\\def_of_week_1.py\u001b[0m in \u001b[0;36mget_neighbours_index\u001b[1;34m(X_train, X_test_individual, k)\u001b[0m\n\u001b[0;32m     13\u001b[0m \u001b[0mbreast_cancer\u001b[0m \u001b[1;33m=\u001b[0m \u001b[0mload_breast_cancer\u001b[0m\u001b[1;33m(\u001b[0m\u001b[1;33m)\u001b[0m\u001b[1;33m\u001b[0m\u001b[1;33m\u001b[0m\u001b[0m\n\u001b[0;32m     14\u001b[0m \u001b[1;33m\u001b[0m\u001b[0m\n\u001b[1;32m---> 15\u001b[1;33m \u001b[1;32mdef\u001b[0m \u001b[0mdistance\u001b[0m\u001b[1;33m(\u001b[0m\u001b[0mX_train\u001b[0m\u001b[1;33m,\u001b[0m \u001b[0mX_test\u001b[0m\u001b[1;33m)\u001b[0m\u001b[1;33m:\u001b[0m\u001b[1;33m\u001b[0m\u001b[1;33m\u001b[0m\u001b[0m\n\u001b[0m\u001b[0;32m     16\u001b[0m     \u001b[1;32mreturn\u001b[0m \u001b[0mnp\u001b[0m\u001b[1;33m.\u001b[0m\u001b[0msqrt\u001b[0m\u001b[1;33m(\u001b[0m\u001b[0mnp\u001b[0m\u001b[1;33m.\u001b[0m\u001b[0msum\u001b[0m\u001b[1;33m(\u001b[0m\u001b[0mnp\u001b[0m\u001b[1;33m.\u001b[0m\u001b[0mpower\u001b[0m\u001b[1;33m(\u001b[0m\u001b[0mX_train\u001b[0m\u001b[1;33m-\u001b[0m\u001b[0mX_test\u001b[0m\u001b[1;33m,\u001b[0m \u001b[1;36m2\u001b[0m\u001b[1;33m)\u001b[0m\u001b[1;33m)\u001b[0m\u001b[1;33m)\u001b[0m    \u001b[1;31m#calculates the distance between two points\u001b[0m\u001b[1;33m\u001b[0m\u001b[1;33m\u001b[0m\u001b[0m\n\u001b[0;32m     17\u001b[0m \u001b[1;33m\u001b[0m\u001b[0m\n",
      "\u001b[1;32m~\\8dm40-machine-learning\\practicals\\code\\def_of_week_1.py\u001b[0m in \u001b[0;36mdistance\u001b[1;34m(X_train, X_test)\u001b[0m\n\u001b[0;32m      7\u001b[0m \u001b[1;32mimport\u001b[0m \u001b[0mnumpy\u001b[0m \u001b[1;32mas\u001b[0m \u001b[0mnp\u001b[0m\u001b[1;33m\u001b[0m\u001b[1;33m\u001b[0m\u001b[0m\n\u001b[0;32m      8\u001b[0m \u001b[1;32mfrom\u001b[0m \u001b[0msklearn\u001b[0m\u001b[1;33m.\u001b[0m\u001b[0mdatasets\u001b[0m \u001b[1;32mimport\u001b[0m \u001b[0mload_diabetes\u001b[0m\u001b[1;33m,\u001b[0m \u001b[0mload_breast_cancer\u001b[0m\u001b[1;33m\u001b[0m\u001b[1;33m\u001b[0m\u001b[0m\n\u001b[1;32m----> 9\u001b[1;33m \u001b[1;32mimport\u001b[0m \u001b[0moperator\u001b[0m\u001b[1;33m\u001b[0m\u001b[1;33m\u001b[0m\u001b[0m\n\u001b[0m\u001b[0;32m     10\u001b[0m \u001b[1;32mfrom\u001b[0m \u001b[0mscipy\u001b[0m\u001b[1;33m.\u001b[0m\u001b[0mspecial\u001b[0m \u001b[1;32mimport\u001b[0m \u001b[0mexpit\u001b[0m\u001b[1;33m\u001b[0m\u001b[1;33m\u001b[0m\u001b[0m\n\u001b[0;32m     11\u001b[0m \u001b[1;33m\u001b[0m\u001b[0m\n",
      "\u001b[1;31mNameError\u001b[0m: name 'np' is not defined"
     ]
    }
   ],
   "source": [
    "# add subfolder that contains all the function implementations\n",
    "# to the system path so we can import them\n",
    "import sys\n",
    "sys.path.append('code/')\n",
=======
   "execution_count": null,
   "metadata": {},
   "outputs": [],
   "source": [
    "import sys\n",
    "sys.path.append('code/')\n",
    "from def_of_week_1 import *\n",
    "import numpy as np\n",
    "from sklearn.datasets import load_diabetes, load_breast_cancer\n",
    "import operator\n",
    "import matplotlib.pyplot as plt\n",
>>>>>>> 257bdf16c0296fd6ce5c8b7277adf11ccb0a930f
    "\n",
    "from def_of_week_1 import *\n",
    "\n",
    "x = breast_cancer.data[:, np.newaxis, 3]\n",
    "# normalize the data\n",
    "x = (x-np.mean(x))/np.std(x)   \n",
    "    \n",
    "X_train = x[:350]\n",
    "y_train = breast_cancer.target[:350, np.newaxis]\n",
    "X_test = x[350:]\n",
    "y_test = breast_cancer.target[350:, np.newaxis]\n",
    "\n",
    "dict_of_errors ={}\n",
    "# the value of k needs always to be an odd number\n",
    "for k in range(1,len(X_train)+1,2):        \n",
    "    predicted_labels = kNN_test(X_train, X_test, y_train, y_test, k)\n",
    "    #calculates the error of every k\n",
    "    knn_error = error_squared(y_test,predicted_labels)   \n",
    "    if k in dict_of_errors:\n",
    "        print (k)\n",
    "    # creates a dictionary with the k as key and the error as value\n",
    "    else:\n",
    "        dict_of_errors[k]=knn_error\n",
    "    \n",
    "# It plots all the errors (y-as) against the k value's (x-as)\n",
    "plt.plot(list(dict_of_errors.keys()), list(dict_of_errors.values()))\n",
    "plt.xlabel('value of k')\n",
    "plt.ylabel('error')\n",
    "plt.title('predicting which k is optimal for the lowest error')\n",
    "plt.show()\n",
    "\n",
    "# It will print the value of K with the lowest error\n",
    "whichK = sorted(dict_of_errors.items(), key=operator.itemgetter(1))\n",
    "bestKvalue = whichK[0][0]\n",
    "print (bestKvalue)"
   ]
  },
  {
   "cell_type": "code",
   "execution_count": null,
   "metadata": {},
   "outputs": [],
   "source": [
    " \"Plak hier de afbeelding\"\n",
    "De value of k = 127"
   ]
  },
  {
   "cell_type": "code",
   "execution_count": null,
   "metadata": {},
   "outputs": [],
   "source": [
    "It is important to choose an odd k-value. As you can see in the image, as the k-value becomes too high, the error\n",
    "will become higher. This process is also called overfitting. \n",
    "The best value of k in this example is 127"
   ]
  },
  {
   "cell_type": "markdown",
   "metadata": {},
   "source": [
    "### $k$-NN regression\n",
    "\n",
    "Modify the $k$-NN implementation to do regression instead of classification. Compare the performance of the linear regression model and the $k$-NN regression model on the diabetes dataset for different values of $k$.."
   ]
  },
  {
   "cell_type": "code",
   "execution_count": 4,
   "metadata": {},
   "outputs": [
    {
     "name": "stdout",
     "output_type": "stream",
     "text": [
      "uitgevoerd\n"
     ]
    },
    {
     "data": {
      "image/png": "iVBORw0KGgoAAAANSUhEUgAAAZEAAAEWCAYAAACnlKo3AAAABHNCSVQICAgIfAhkiAAAAAlwSFlzAAALEgAACxIB0t1+/AAAADh0RVh0U29mdHdhcmUAbWF0cGxvdGxpYiB2ZXJzaW9uMy4xLjAsIGh0dHA6Ly9tYXRwbG90bGliLm9yZy+17YcXAAAgAElEQVR4nO3de3ycdZ33/9dnZpKmTZukSdNTei6lHCrHykHlICAn/VlUUFwVZFnRVVdd3XXx1nvhRtxV71VvXVcUb1FwkcPNyoIKYi0nAaEUKFgoPQBt0zZt0yRt2qY5f35/XN9Jr6aTdGaaZBL6fj4e85jr+l6n7zXXzHzme7i+Y+6OiIhIPhKFzoCIiIxcCiIiIpI3BREREcmbgoiIiORNQURERPKmICIiInlTEBkBzOwXZnZjmD7DzFbluZ8fm9n/HNjc5XT8s81sYz/Ls8qfmT1qZn8zEMfste5HzOwP2aw7WMxshpntNrPkIOz7ejP7z36W/62ZbQ3HrxqE488yMzez1ADsK+vrKoNLQWSEcfc/ufv8g61nZh83syd6bfspd//64OXu0BQ6f+5+u7ufP5THNLN1ZnZeLA8b3H2su3cNcT6KgO8C54fjNwzAPvc7tzerEBiPKHQ+CkVBZIgNxK8wkUEwCSgBXs51Q4vou2QAZPp+yPU7Y6ivhy78AAi/uL5iZq+YWZOZ/dzMSsKys81so5n9k5ltAX4e0t9jZsvNbIeZPWVmx8X2d6KZPW9mu8zsLqIPN/H9xeanm9mvzazezBrM7IdmdjTwY+D0UDWxI6wbrxZL5+tLZrbNzOrM7KrYfqvM7Ddm1mxmz5rZjb1LNrF1bzWzL4XpmvDL7NNh/ggzazQzi63f1zF78hfmF4XXqNnMXjOzC2OHnWlmT4bX6A9mNiHLa/W5cJ2mZVjWU3oLH8TvhXzuNLOXzGxBH/ucamb3h/Nca2afiC273szuMbO7Ql6fN7Pjw7JfAjOA34Tr9OXeVT4WVd3dGN4ju8M1qTKz22PXZlbseN83s9qw7DkzOyOL1+RIIF1FusPMHg7pbwv73xme3xbb5lEz+4aZPQm0AHN67fOAc4st/oiZbTCz7Wb21dg2CTO7NlzrBjO728wqD5b/sO3RIU87zOxlM3tvSJ8d0hJh/v+a2bbYdv9pZl8I0+Vm9rPwvtwUXvdkWHaEmT0WXovtFn0uMbPHw65eDOf5oT7y99dmttKi74eHzGxmbJmb2WfMbA2wpp+0vK/HoHJ3PQ7xAawDVgDTgUrgSeDGsOxsoBP4FjAKGA2cBGwDTgWSwJVhH6OAYmA98PdAEXAp0NFrfxvDdBJ4EfgeUEoUbN4Rln0ceKJXPn+RIV83hONcTPTmGx+W3xkeY4BjgNre+4vt96+B34TpvwJeA+6KLbsvy2PG83cKsBN4F9GPnRrgqLDs0XCMI8Pr+SjwzT7yFn+9/ifwPFDdx7o9rxlwAfAcUAEYcDQwpY/tHgN+FF7/E4B64Nyw7Ppw/S4N5/wPwBtAUey9c15sX7MAB1Kxc10LzAXKgVeA1cB5QAq4Dfh5bPuPAlVh2ZeALUBJLC//2cc59D5uJdAEfCzs68NhviqWrw3AsWF5UR+fi0zn9tNw3Y4H2oCjw/IvAE8D04g+Cz8B7sjiuhaF1+h/EH1+zgF2AfPD8g3AyWF6FfB67JgbgBPD9H+HY5YCE4GlwCfDsjuArxK9F3s+Z2GZA0f08/1wScjf0eG1+hrwVK/tF4fXfHSmtIG4HoP2/TdUB3ozP8KH5VOx+YuB12Jv9vb0Bzmk3QR8vdc+VgFnAWcCmwGLLXuKzEHkdKIvrFSGPH2cgweRvfFtiQLbaUTBqSP9IQzLbuy9v9iyucCO8AH7MfDJWB5vBb54sGNmyN9PgO/1cbxHga/F5j8N/L6Pdc8GNhHV9z8BlPdzHXteM6IvotXh9Uj0s810oAsYF0v7V+AXYfp64OnYsgRQB5wRe+8cLIh8Nbb8O8CDsfn/D1jeT/6agONjeck2iHwMWNprnT8DH4/l64YsPheZzm1aLG0pcHmYXkkIvmF+SngfZnp/nx17j51BFCwTseV3ANeH6V8CXwQmE33Ovg18CpjNvvftJKKANjq2jw8Dj4Tp24Cb43mPrXewIPIgcHWv90ALMDO2/TkZ9nlObP6Qr8dgPVSdNXBqY9Prgamx+Xp3b43NzwS+FIrZOyyqbpoetpkKbPLwzojtL5PpwHp378wzzw29tm0BxgLVRL9m4ucUn96Pu78G7Cb6FX4G8Ftgs5nNJwqMj2VxzN6mE5U2+rIli32kVQDXAP/q7jv7Wa+Huz8M/BD4D2Crmd1sZmUZVp0KNLr7rljaeqKSU1rPa+fu3cBG9n9/HMzW2PTeDPM9525RVeHKUOWxg6j0klVVXy9TOfB91+d55aivazcTuDf2mVhJFKAnZZHX2vDaZsrrY0RB50zgcaIv3LPC409hu5lEJZq62PF/QlQiAfgyUYl0aagu++sczncm8P3YfhvDvg72WsbTBvN6HBIFkYEzPTY9g6g0kea91q0FvuHuFbHHGHe/g+hXao3ZvjaEsL9MaoEZlrnhrfcxc1FPVO0UbzeY3se6aY8RVdkUu/umMH8FMB5YnkceaolKOAOhCXgP8HMze3u2G7n7D9z9ZKIqgiOBf8yw2mag0szGxdJmEJV+0npeu1A3P419749DuU77Ce0f/wR8kKiKsIKoStD63TCzzURffnG9z+tgec/13GqBi3p9LkrC++lgeZ1u+zcmx/P6GNGPm7PD9BPA29n/B04tUUlkQuzYZe5+LIC7b3H3T7j7VKKS9o8s+x5ZtUTVYvHzGu3uT8XWyfRaxdMG4noMCgWRgfMZM5sWGgL/B3BXP+v+FPiUmZ1qkVIze3f4Ivoz0Rf458wsZWbvJ2ofyGQpUdD5ZthHSexLciswzcyKcz0Rj7qX/hq43szGmNlRRAGhP48BnyX6pQfRr72/I6oeyqe76s+Aq8zs3NDgWhPykRd3fxT4CNEv3VMPtr6ZvTVcnyJgD9BK9Ku4935riaob/zW8/scBVwO3x1Y72czeH4L9F4i+rJ4Oy7YycI2g44jeO/VAysz+GchUesrGA8CRZvZX4X34IaK2sd/msI9cz+3HwDfSjc5mVm1mi7LY7hmia/RlMysys7OJqvnuBHD3NUQlto8Cj7t7c8jbBwhBxN3rgD8A3zGzsvCem2tmZ4W8XGb7OmM0EX1hp98PBzvPHwNfMbNjw77KzeyyLM4rbiCux6BQEBk4vyJ6E74eHjf2taK7LwM+QVRd0kTU6PbxsKwdeH+YbwI+RPSFnmk/XUQfliOIGtU2hvUBHibqrrnFzLbncT6fJaoK2UJUp3wH0ZdfXx4j+hJLB5EniBrlH+9zi364+1LgKqJOAzvD/nv/Est1n4vDPu83s5MPsnoZUbBvIqo2aAD+rY91P0xU378ZuBe4Lhwr7T6i65JuGH2/u3eEZf8KfC1UdfxDzie1v4eI6t9Xhzy3kmcVh0f3ibyHqHG+gag65z3unst7Kddz+z5wP/AHM9tFFGgPGvDDZ+a9wEXAdqJODle4+6ux1R4jqkrdEJs34IXYOlcQNcy/QnSt7iFqlwF4K/CMme0Oefy8u78Rll0P3BrO84MZ8ncvUceaO82smagTzkUHO69e+xiI6zEobP+qd8mHma0D/sbd/1jovAwWM/sWMNndryx0XkYSM7ueqNH1o4XOi8hgUElEMjKzo8zsuFDddgpRFc29hc6XiAwvunta+jKOqAprKlE33O8QVcuIiPRQdZaIiORN1VkiIpK3w646a8KECT5r1qxCZ0NEZMR47rnntrt7daZlgxZEzOwWoi5p29x9QUirJLp/YhbRkAgfdPemcGPd99k3ltLH3f35sM2VRGPNQDQkxq0h/WSiYTJGE/Wh/rxnUTc3a9Ysli1bNkBnKSLy5mdmfY2aMajVWb8ALuyVdi2wxN3nAUvCPER9pueFxzVEY0ulg851RH3FTwGuM7PxYZubwrrp7XofS0REBtmgBRF3f5xojJi4RUQD8hGeL4ml3+aRp4EKM5tCNJLqYndvdPcmolEtLwzLytz9z6H0cVtsXyIiMkSGumF9UhheID3MQHpwsxr2v7N2Y0jrL31jhvSMzOwaM1tmZsvq6+sP+SRERCQyXHpnZRogzvNIz8jdb3b3he6+sLo6Y9uQiIjkYaiDyNZQFUV4Tv/D2Eb2HyU2Pcppf+nTMqSLiMgQGuogcj/Rv/gRnu+LpV8Rhtg4DdgZqrseAs43s/GhQf184KGwbJeZnRZ6dl2B7qYWERlyg9nF9w6i8fsnWPSf4NcB3wTuNrOriUadTQ+H/ABR9961RF18rwJw90Yz+zrwbFjvBndPN9b/Lfu6+D4YHiIiMoQOu2FPFi5c6PncJ/LvS9Zw3PQKzjpSbSoicngxs+fcfWGmZcOlYX3Yu+mx1/jTavXsEhGJUxDJUjJhdHYfXqU2EZGDURDJUlEyQWd3d6GzISIyrCiIZCmVMDq7VBIREYlTEMlSStVZIiIHUBDJUiqZoLNL1VkiInEKIllKJVUSERHpTUEkS2oTERE5kIJIllIJ9c4SEelNQSRLRarOEhE5gIJIlpKqzhIROYCCSJZSyQQd6p0lIrIfBZEsFSWNLlVniYjsR0EkS8lEgg4FERGR/SiIZKkoYbrZUESkFwWRLCUTqs4SEelNQSRLRWpYFxE5gIJIljTsiYjIgRREsqT7REREDqQgkqUiDXsiInIABZEspZIqiYiI9KYgkiX9KZWIyIEURLKkP6USETmQgkiW1DtLRORACiJZUnWWiMiBFESylEok6Op23BVIRETSFESyVJQ0AJVGRERiFESylExEL5W6+YqI7FOQIGJmnzezFWb2spl9IaRVmtliM1sTnseHdDOzH5jZWjN7ycxOiu3nyrD+GjO7cjDznC6JdOiGQxGRHkMeRMxsAfAJ4BTgeOA9ZjYPuBZY4u7zgCVhHuAiYF54XAPcFPZTCVwHnBr2dV068AyGVCIKIl0qiYiI9ChESeRo4Gl3b3H3TuAx4H3AIuDWsM6twCVhehFwm0eeBirMbApwAbDY3RvdvQlYDFw4WJlOJqOXSiUREZF9ChFEVgBnmlmVmY0BLgamA5PcvQ4gPE8M69cAtbHtN4a0vtIPYGbXmNkyM1tWX1+fV6aLQklEbSIiIvsMeRBx95XAt4hKDr8HXgQ6+9nEMu2mn/RMx7zZ3Re6+8Lq6uoccxxJhZKI/phKRGSfgjSsu/vP3P0kdz8TaATWAFtDNRXheVtYfSNRSSVtGrC5n/RBkW4T0R9TiYjsU6jeWRPD8wzg/cAdwP1AuofVlcB9Yfp+4IrQS+s0YGeo7noION/MxocG9fND2qBI6T4REZEDpAp03P8ysyqgA/iMuzeZ2TeBu83samADcFlY9wGidpO1QAtwFYC7N5rZ14Fnw3o3uHvjYGU4pTYREZEDFCSIuPsZGdIagHMzpDvwmT72cwtwy4BnMINU+mZD9c4SEemhO9azlK7O6lBJRESkh4JIltIlEfXOEhHZR0EkSz0N6+qdJSLSQ0EkS/vGzlJJREQkTUEkS8me6iyVRERE0hREsrTvZkOVRERE0hREslSkYU9ERA6gIJKlpIY9ERE5gIJIlnr+HlfVWSIiPRREsqRRfEVEDqQgkqWehnX1zhIR6aEgkiUNwCgiciAFkSylq7M0FLyIyD4KIlnaVxJRdZaISJqCSJb0p1QiIgdSEMlSz/+JqE1ERKSHgkiWkgnDTH9KJSISpyCSg6JEQmNniYjEKIjkIJkwjeIrIhKjIJKDVNJUEhERiVEQyUFRMqE2ERGRGAWRHETVWSqJiIikKYjkoCih6iwRkTgFkRykkgmVREREYhREcpBKmP6USkQkRkEkB6mk6Y51EZEYBZEcpBIJjZ0lIhKjIJKDVNLUxVdEJEZBJAephKqzRETiChJEzOzvzexlM1thZneYWYmZzTazZ8xsjZndZWbFYd1RYX5tWD4rtp+vhPRVZnbBYOc7pZsNRUT2M+RBxMxqgM8BC919AZAELge+BXzP3ecBTcDVYZOrgSZ3PwL4XlgPMzsmbHcscCHwIzNLDmbeVRIREdlfoaqzUsBoM0sBY4A64BzgnrD8VuCSML0ozBOWn2tmFtLvdPc2d38DWAucMqiZTiboUMO6iEiPIQ8i7r4J+DdgA1Hw2Ak8B+xw986w2kagJkzXALVh286wflU8PcM2+zGza8xsmZktq6+vzzvvKY3iKyKyn0JUZ40nKkXMBqYCpcBFGVZN/+S3Ppb1lX5govvN7r7Q3RdWV1fnnulA1VkiIvsrRHXWecAb7l7v7h3Ar4G3ARWhegtgGrA5TG8EpgOE5eVAYzw9wzaDoiiZ0B3rIiIxhQgiG4DTzGxMaNs4F3gFeAS4NKxzJXBfmL4/zBOWP+zuHtIvD723ZgPzgKWDmXGN4isisr/UwVcZWO7+jJndAzwPdAIvADcDvwPuNLMbQ9rPwiY/A35pZmuJSiCXh/28bGZ3EwWgTuAz7t41mHnXn1KJiOxvyIMIgLtfB1zXK/l1MvSucvdW4LI+9vMN4BsDnsE+FCV0n4iISJzuWM9BMqnqLBGROAWRHOhPqURE9qcgkoNUMkGnemeJiPRQEMlBKmEaCl5EJEZBJAfRUPAKIiIiaQoiOUglov9Yj25TERERBZEcpBLRSCsqjYiIRBREcpBKRi+Xxs8SEYkoiOSgKJkuiaiHlogIKIjkJJmuzlJJREQEUBDJSbo6q0MlERERQEEkJ+mGdQ19IiISURDJQUrVWSIi+1EQyUFRujpLQ5+IiABZBBEzS5rZ3w9FZoa7pKqzRET2c9AgEv7oadEQ5GXYS3fx1Ui+IiKRbP+U6kkz+yFwF7Annejuzw9KroapVCLcbKjeWSIiQPZB5G3h+YZYmgPnDGx2hrdkUsOeiIjEZRVE3P2dg52RkaAooWFPRETisuqdZWblZvZdM1sWHt8xs/LBztxwk0qXRNQ7S0QEyL6L7y3ALuCD4dEM/HywMjVcaRRfEZH9ZdsmMtfdPxCb/19mtnwwMjSc9Yziq4Z1EREg+5LIXjN7R3rGzN4O7B2cLA1f6ZKIuviKiESyLYl8Crgt1g7SBFw5OFkavtJtIrrZUEQkctAgYmYJYL67H29mZQDu3jzoORuG0veJaNgTEZFINnesdwOfDdPNh2sAgX13rKskIiISybZNZLGZ/YOZTTezyvRjUHM2DOlPqURE9pdtm8hfh+fPxNIcmDOw2RneivSnVCIi+8lmFN8E8FF3n93rkVcAMbP5ZrY89mg2sy+E0s1iM1sTnseH9c3MfmBma83sJTM7KbavK8P6a8xs0Bv6NYqviMj+sm0T+beBOqC7r3L3E9z9BOBkoAW4F7gWWOLu84AlYR7gImBeeFwD3AQQqtOuA04FTgGuSweewVLU07CuICIiAtm3ifzBzD5gZjbAxz8XeM3d1xMNN39rSL8VuCRMLwJu88jTQIWZTQEuABa7e6O7NwGLgQsHOH/70bAnIiL7y7ZN5IvAGKDLzFoBA9zdyw7x+JcDd4TpSe5eR7TjOjObGNJrgNrYNhtDWl/pBzCza4hKMcyYMSPvzCY17ImIyH6yLYmUAx8HbgyB41jgXYdyYDMrBt4L/L+DrZohzftJPzDR/WZ3X+juC6urq3PLaEy6YV29s0REItkGkf8ATgM+HOZ3AT88xGNfBDzv7lvD/NZQTUV43hbSNwLTY9tNAzb3kz5okgnDTGNniYikZRtETnX3zwCtAKENovgQj/1h9lVlAdzPvqFUrgTui6VfEXppnQbsDNVeDwHnm9n40KB+fkgbVKmEqTpLRCTItk2kw8yShOoiM6sG8v45bmZjiKrDPhlL/iZwt5ldDWwALgvpDwAXA2uJenJdBeDujWb2deDZsN4N7t6Yb56ylUok1LAuIhJkG0R+QNQNd6KZfQO4FPhavgd19xagqldaA1Fvrd7rOvvf5BhfdgvRf50MmVTS1MVXRCTI9u9xbzez54i+5A24xN1XDmrOhqmiZEIDMIqIBNmWRHD3V4FXBzEvI8LYUSl2t3UWOhsiIsNCtg3rEpSPLmLn3o5CZ0NEZFhQEMmRgoiIyD4KIjkqH11Es4KIiAigIJKzstEpdu5Vm4iICCiI5KwslESinsciIoc3BZEclY8uor2rm9YOdfMVEVEQyVH56CIANa6LiKAgkjMFERGRfRREcqQgIiKyj4JIjhRERET2URDJkYKIiMg+CiI5UhAREdlHQSRH40oURERE0hREcpRMGONKUhr6REQEBZG8lJVo/CwREVAQyYtG8hURiSiI5EFBREQkoiCSBwUREZGIgkgeFERERCIKInkoH6MgIiICCiJ5KR9dRFtnN60dXYXOiohIQSmI5KEs3LWubr4icrhTEMmDhj4REYkoiORBQUREJKIgkod0EGluVRARkcObgkgeVBIREYkUJIiYWYWZ3WNmr5rZSjM73cwqzWyxma0Jz+PDumZmPzCztWb2kpmdFNvPlWH9NWZ25VDlv6wkBcDOFgURETm8Faok8n3g9+5+FHA8sBK4Flji7vOAJWEe4CJgXnhcA9wEYGaVwHXAqcApwHXpwDPYynpKIp1DcTgRkWFryIOImZUBZwI/A3D3dnffASwCbg2r3QpcEqYXAbd55GmgwsymABcAi9290d2bgMXAhUNxDkXJBKXFSVVnichhrxAlkTlAPfBzM3vBzP6vmZUCk9y9DiA8Twzr1wC1se03hrS+0g9gZteY2TIzW1ZfXz8gJ1Exppgde9sHZF8iIiNVIYJICjgJuMndTwT2sK/qKhPLkOb9pB+Y6H6zuy9094XV1dW55jej8aVFNO1REBGRw1shgshGYKO7PxPm7yEKKltDNRXheVts/emx7acBm/tJHxLjxxTTqIZ1ETnMDXkQcfctQK2ZzQ9J5wKvAPcD6R5WVwL3hen7gStCL63TgJ2huush4HwzGx8a1M8PaUOiqrSYxj1tQ3U4EZFhKVWg4/4dcLuZFQOvA1cRBbS7zexqYANwWVj3AeBiYC3QEtbF3RvN7OvAs2G9G9y9cahOoLJ0FI27VZ0lIoe3ggQRd18OLMyw6NwM6zrwmT72cwtwy8DmLjuVpUXsae+itaOLkqJkIbIgIlJwumM9T5WlowBoalFpREQOXwoieaosLQagQVVaInIYUxDJUzqINKqbr4iMAIN1c3ShGtZHvHQQUXWWiAxXHV3dPLhiC7c+tY7GPe0s+eJZJBKZbrHLn4JInqpUnSUiw9iqLbv4/J0v8OqWXcysGsPHTptJZ7dTrCAyPJSPLiJhqs4SkeGlbude7nhmAz9+/HXKSlLc9JGTuODYyQNeAklTEMlTImGMH1NMg4KIiBRQe2c3T762nadfb+CFDTtYtq6RbocLj53Mje9bwISxowb1+Aoih6CytFjjZ4nIkGvt6OKJNdt54C91LF65lV2tnRQljWOmlPGps+Zy+VtnMKNqzJDkRUHkEFSWFqs6S0SGxI6Wdh5+dRuLX9nK46vr2dPeRVlJiguOnczFb5nM2+ZOKMiNzwoih6CytJjVW3cVOhsi8ibV1e0sWbmVXz69nqdea6Cr25k4bhSLTqzh/GMm8ba5EyhOFfZODQWRQ6CSiIgMBnfn9yu28K3fv8q6hhamlpfwqbPm8K5jJnNcTfmgNZLnQ0HkEFSVFrNjbwdd3U5yGF1UERl53J1VW3fx2Kp6HlyxheW1Ozhy0lh+9JGTOP+YSaSSw/PecAWRQzC+tBj3qK6yapB7QIjIm0t3t7Njbwd/fq2Bx1Zv47HV9Wxtjv5eYv6kcXzjfQv40MLpwzZ4pCmIHIL40CcKIiISt313Gw+9vIW/bNzJ69v3MLW8hEllJby8uZkXa3ewq62zZ92ykhRnzKvmrCOrOfPIaiaXlxQw57lREDkEVWEk34Y97cwrcF5EpPA2NrWw9I1Glry6jT+8vIWOLqdiTBFzq8fy7Lom6nbuZf7kMhadOJWq0lGMK0lx4ozxHD+tfNiXOPqiIHIIesbPUuO6yJtGd7ezetsunlrbwIbGFjq6upk4roQPnFxDTcVo1mzbTeOedhbOHN/zxf/suka+/8c1PLF2OwAVY4r46GkzufytMzhy0ljMrGffw6lRfCAoiByCnuHgFURERrT2zm4eXFHHH17ZytOvNfR8pseNSlGcStDY0s7/WbKaqtJitofx8ipLi1lQU86rdc1s29XGhLHFfPnC+Zx95ETmTx6XsbPNmy2AgILIIRlfWgRo/CyRkWhPWyfPrmvkz683cO/zm9i2q41JZaM468hqTp9bxelzq5g2Prrre9OOvdz1bC0bG1s4dU4lZSVF/O4vdazZupu3HzGBhbPG8/4TpzG6+PD7l1MFkUMwKpVk3KiUgojICNHW2cVvX6zjty9t5sm1DbR3dZNKGG8/YgLfvnQWZ86rzlhaqKkYzRffdeR+aRe9ZcpQZXtYUxA5RJVji6nf3VbobIhIP9Zu28VvX6rj9mc2UL+rjWnjR/Ox02fyzvkTOWlmBWOK9VWYL71yh2jB1HKWvtGIu/c0nolI4bk7i1/Zyvf+uIaVdc0AnDFvAt/94PG844gJ+rwOEAWRQ3T2/Gp+95c6Xt7czIKa8kJnR+RNr62zi6JEYr9qp23Nrdy9rJbNO1vZubeD5r0dbN6xl9fq9zBnQik3LDqWC46dzKSykXP/xUihIHKIzppfDcCjq7YpiIgMgu5u57E19dz3wiaW1+5gXUMLZlHPqTnVY5lUNopHXq2no7ubqtJiykqKKBtdxLTxY/ibM+Zw2cnTRuw9GCOBgsghmjiuhLfUlPPIqno+e45uORTJR2dXN0vXNfJi7U7Wbd9D6agURUljY9NeltfuYNOOvVSVFvPWWZVccmIN3d1OU0sHa7ftZsWmZi5dOI1PnjmHmVWlhT6Vw46CyAB45/xqfvjIWpr2tDM+3DsiIgfX3tnNn9bU8y8PrOS1+j0ATBhbTGtHN22dXUwbP4ajJo/j2ouO4oJjJxd82HM5kILIAHjnURP5wcNreXxNPYtOqCl0dkSGrYbdbTy4Ygu/eXEzL2zYQXtXNwCzJ5L/4jUAABIVSURBVJTy7x8+kXccMUE/xEYYBZEBcNy0CipLi3n41W0KIiK91Da28Piaeh56eStPrt1OV7czt7qUK06fScWYImrGj+bdb5mqUsYIpSAyAJIJ47yjJ/K7l+rY2951WN61KgJRL6n7lm/mt3+p47Vtu2nv7O4pbcyoHMOnzprDe46bylGTx6mL7ZtEQYKIma0DdgFdQKe7LzSzSuAuYBawDviguzdZ9E77PnAx0AJ83N2fD/u5Evha2O2N7n7rUJ5H3CUn1nD3so0sXrmV9x4/tVDZEBlUtY0ttLR3MbNqTM//ebd2dPHG9j3csXQDdy6tpb2rm7fUlHPZwmmUFCWZOG4UZx5ZzZwJpQocb0KFLIm80923x+avBZa4+zfN7Now/0/ARcC88DgVuAk4NQSd64CFgAPPmdn97t40lCeRdtrsKqaUl3DfC5sURGRE6up2tu9uo9ud4mSColSC4mT0aO3s4nuLV/OzJ96g28EMxhQlMTN2h//FSCWMyxZO45oz5zJ7gnpJHS6GU3XWIuDsMH0r8ChREFkE3ObuDjxtZhVmNiWsu9jdGwHMbDFwIXDH0GY7kkgY7z1+Kj974g0a97T3jPArMlztau3gqdcaeHx1PX9+LRr2vLPbM65rBu7w4VNmcNqcSl6v38Putk7co2HPZ00o5eSZ46mpGD3EZyGFVqgg4sAfzMyBn7j7zcAkd68DcPc6M5sY1q0BamPbbgxpfaUXzCUn1vCTx1/ndy9t5mOnzypkVkQyau3o4ncv1XH3slqeW99EZ7dTWpzk9LlVXLhgMlMqRpNKGO2d3XR0ddMWnju7nLPnV7NwVmWhT0GGmUIFkbe7++YQKBab2av9rJupEtX7ST9wB2bXANcAzJgxI9e8Zu3oKWXMnzSO/16uICKDa1tzKys272T7rnZmVI2hKGk8uqqe1Vt3Mbd6LHOrx5JKGt3udHfD7jDs+RNrt7OjpYM5E0r5xJlzOHNeNSfPHK+eUZK3ggQRd98cnreZ2b3AKcBWM5sSSiFTgG1h9Y3A9Njm04DNIf3sXumP9nG8m4GbARYuXJi5vD5A3n3cFL67eDXbmluZqHF65BC4O+5RVWlXt/PChiYWr9zKH1/Z2nNjXlzCoh5QS1Zuy1gtNbmshHfOn8gHTprG24+oUiO3DIghDyJmVgok3H1XmD4fuAG4H7gS+GZ4vi9scj/wWTO7k6hhfWcINA8B/2Jm48N65wNfGcJTyejCBZP57uLVPPTKVj522sxCZ0dGoNaOLv77hU389E+vs76hhakVo9nd1knjnnaKksZpc6r48CkzOG5aBZPKRrGhsYXdrZ2cNqeK8aXFtHV2salpLwAJMxJmFKcSTCobpcAhA64QJZFJwL3hzZwCfuXuvzezZ4G7zexqYANwWVj/AaLuvWuJuvheBeDujWb2deDZsN4N6Ub2Qpo3cSxzqkv5/Yo6BRHJSf2uNu5eVssvnlpH/a42jp1axtVnzGbzjlaKEsY5R0/kzCOrKSsp2m+73uNFjUolmVM9diizLoexIQ8i7v46cHyG9Abg3AzpDnymj33dAtwy0Hk8FGbGhcdO5iePv66xtCSjjq5u/vxaAw+u2MLGphbaOrrZ0NjCluZWIPrPi//zoRN421xVOcnwN5y6+L5pXLRgCj969DX+uHIrly2cfvANZMRzd9o6o79ajQ87vqOlnVfqmllZt4tXNjezamsza7ftprWjm9LiJEdMGkdJKsFpcypZUFPOO+ZN4KjJZQU8E5HcKIgMggU1ZdRUjOb3K7YoiLyJrd22mzuWbuD+FzfTsLuNdFt2KmGMSiVIJRPs3NvRs371uFEcNXkcHzl1JqfMruSsI6t77voWGakURAaBmfHu46bw8yffOKBKa297F6/UNWOhJ82EsaMKmFPJhbvz/IYmfv38Jp5Yu531DS2kEsa7jpnE3OqxjC5O0tXttHV20dYRjRk1tWI0x0wp4+gpZVSP07WWNx8FkUGy6ISp3Pz46/zuL3V8NNbAfv39L3PXsugeyXElKZZ88Sx1BR4murudZeubWLa+kbKSItydx1bXs7x2B2UlRXS7s66hJdycN4Gr3jaLi4+bwsRxun5y+FIQGSTHTClj3sSx3Ld8U08Q2bm3g/te3MRFCybz7uOm8IU7l/PvD6/l65csKHBuD08t7Z08v34Hy2ubWL11N8vWNbJ5Z+t+69RUjObs+RPZ29FFS1snnzxrLu89fiqlo/TREQEFkUFjZlxyYg3/+6FV1Da2ML1yDPcv30RrRzd/e/ZcjptWwdOvN3DH0g1c/Y7ZzNKAdYOqs6ubP63dzr3PR//T3dLeRVNLO12hIaOmYjTH1pTz5QuP4p3zJ0ZVUp3dTBs/Wj2kRPqhIDKIFp0wlf/90Cruf3Eznz57Lr9aWssxU8p4S005AJ87Zx7/9dwmvv3Qq/zwwyeRSOjLajCs2LSTf7znJVbWNVMxpoh3HDGBcSVFTBhbzMJZlZw0o4Jxve69gN7zIpKJgsggmjZ+DKfMquTHj77G1uZWVtY18/VLFvT8sp1YVsI1Z87h+0vWcOnOp/jCeUdSlEwwdlSKt0wrL3DuR56Orm4eXVXPw69u45nXG2hsaWfC2FG8sX0PVaXFfP/yE7hwwWRGpdQjSmSgWHQv3+Fj4cKFvmzZsiE73hvb93Djb19hyavbKClKsPSr5+13x3F3t/PrFzbxzQdfZfvutp70T589l3+8YP6AV6WkG4t3tHQwbfxojp5S1m/9/t72Ljbv3Is7zKwaQ1Ey+4H6mls72NDQwq7WTszglFmVA1baauvsYvWW3bxSt5MNjS3U7Wzl8dXb2b67jXGjUpwyu5IpFSU07G5nSvloPn/ePMpHq3Qhkg8ze87dF2ZcpiAyNF7auIP2zu4+h9Le1drBsnVNjCpK8JsXN3PH0lree/xUvnLxUUwp3/cfDe2d3TzzRgPHTaugfHQRrR1dPLFmO5PKSpg/edwBo7G2d3Zz17Ja2jq6mFhWwn/+eT1L1+0bHWbcqBQfeut0jq0pY/OOVup27qVuRyubd0bTO1r23edQnExQWVrMnrZOSkeluOTEGhadMJV5E8f23GBXv6uNW558g3uf39RzB3ba8dMruHHRgqxKWZ1d3ays28Vz6xtJJhNMGjeK9q5utjW38fTrDfxpzXb2dnQB0d8TTxw3irfUlPPBhdM5e371fjf8icihURCJKVQQyYW78x+PrOU7i1djwDlHTeIjp87giIlj+bs7XmB57Q5Ki5O865hJ/GnNdhr2tANQlDRKR6UoTiY4ZXYl5x09iZsff51X6pp79l1VWsyXzp/PKbPHs76hhf9evpkH/lLX08BcMaaIKeWjmVpewpSKkmi6ogR3WL11Nw272xhbkqK2sYVHVtXT1e0UpxLUVIyms7ubrc1tdHR1866jJ3HSzPHMqiqlfHQRtY0tfPuhVTTsaeOSE2r4/LnzGF9azK7WDrq7oaO7mzfq97Cyrpll65t4bn1Tzz/m9TalvITzjp7E6XOrOHZqGdPGjyGp9iSRQaMgEjMSgkhabWMLdyzdwN3Latm+OwoUY0el+PKF83l+fRMPrNjCO46YwMdOn8metk5WbGqmpb2T3a2dPLxqGztaOpgwtph/ed9beOusSmqbWpg9ofSARuT6XW00t3YwpbyEMcXZN5Nta27l8TXbWb11F5t27KU4maCqtJi/OnVGxgEAd+7t4EePrOXWP6+jtaO7z/0eOWksp8yu5JTZVbx11ngSZmxtbqU4lWDC2FFUlRarx5TIEFIQiRlJQSStvbObxa9sZdn6Rq48fVZW3YHbOrt4fv0Ojpo8btgNArmtuZV7X9hEMmGUlRSRTBiJRHQH/5GTxmXoKSUihaQgEjMSg4iISCH1F0TU+igiInlTEBERkbwpiIiISN4UREREJG8KIiIikjcFERERyZuCiIiI5E1BRERE8nbY3WxoZvXA+jw2nQBsH+DsFIrOZXjSuQxPOheY6e7VmRYcdkEkX2a2rK87NkcancvwpHMZnnQu/VN1loiI5E1BRERE8qYgkr2bC52BAaRzGZ50LsOTzqUfahMREZG8qSQiIiJ5UxAREZG8KYgchJldaGarzGytmV1b6PzkyszWmdlfzGy5mS0LaZVmttjM1oTn8YXOZ1/M7BYz22ZmK2JpGfNvkR+Ea/WSmZ1UuJwfqI9zud7MNoXrs9zMLo4t+0o4l1VmdkFhcn0gM5tuZo+Y2Uoze9nMPh/SR9x16edcRtx1ATCzEjNbamYvhvP5XyF9tpk9E67NXWZWHNJHhfm1YfmsnA/q7nr08QCSwGvAHKAYeBE4ptD5yvEc1gETeqV9G7g2TF8LfKvQ+ewn/2cCJwErDpZ/4GLgQcCA04BnCp3/LM7leuAfMqx7THi/jQJmh/dhstDnEPI2BTgpTI8DVof8jrjr0s+5jLjrEvJnwNgwXQQ8E17zu4HLQ/qPgb8N058GfhymLwfuyvWYKon07xRgrbu/7u7twJ3AogLnaSAsAm4N07cClxQwL/1y98eBxl7JfeV/EXCbR54GKsxsytDk9OD6OJe+LALudPc2d38DWEv0fiw4d69z9+fD9C5gJVDDCLwu/ZxLX4btdQEIr/HuMFsUHg6cA9wT0ntfm/Q1uwc418wsl2MqiPSvBqiNzW+k/zfYcOTAH8zsOTO7JqRNcvc6iD5EwMSC5S4/feV/pF6vz4ZqnltiVYsj4lxC9ceJRL94R/R16XUuMEKvi5klzWw5sA1YTFRa2uHunWGVeJ57zics3wlU5XI8BZH+ZYrII61P9Nvd/STgIuAzZnZmoTM0iEbi9boJmAucANQB3wnpw/5czGws8F/AF9y9ub9VM6QN93MZsdfF3bvc/QRgGlEp6ehMq4XnQz4fBZH+bQSmx+anAZsLlJe8uPvm8LwNuJfoTbU1XZ0QnrcVLod56Sv/I+56ufvW8KHvBn7KvqqRYX0uZlZE9KV7u7v/OiSPyOuS6VxG6nWJc/cdwKNEbSIVZpYKi+J57jmfsLyc7KtcAQWRg3kWmBd6NhQTNTzdX+A8Zc3MSs1sXHoaOB9YQXQOV4bVrgTuK0wO89ZX/u8Hrgi9gU4DdqarV4arXm0D7yO6PhCdy+Wh98xsYB6wdKjzl0moM/8ZsNLdvxtbNOKuS1/nMhKvC4CZVZtZRZgeDZxH1M7zCHBpWK33tUlfs0uBhz20smet0L0JhvuDqGfJaqJ6xa8WOj855n0OUU+SF4GX0/knqvNcAqwJz5WFzms/53AHUXVCB9Gvpqv7yj9R0fw/wrX6C7Cw0PnP4lx+GfL6UvhAT4mt/9VwLquAiwqd/1i+3kFU5fESsDw8Lh6J16Wfcxlx1yXk7TjghZDvFcA/h/Q5RMFuLfD/gFEhvSTMrw3L5+R6TA17IiIieVN1loiI5E1BRERE8qYgIiIieVMQERGRvCmIiIhI3hRERAaJme0++FqHtP/qMPLqC2Z2Rq9l68xswmAeXwQgdfBVRGSYOhd41d2vPOiaIoNEJRGRLJjZt8zs07H5683sS2Y21syWmNnzFv1vywGjPJvZ2Wb229j8D83s42H6ZDN7LAyQ+VCm0W3NbGY4xkvheYaZnUA09PrF4f8uRveR79Fm9nsz+8QAvAwiB1AQEcnOncCHYvMfJLrTtxV4n0eDXL4T+E62Q2mHMZv+HbjU3U8GbgG+kWHVHxINpX4ccDvwA3dfDvwz0f8/nODuezNsNxb4DfArd/9pNnkSyZWqs0Sy4O4vmNlEM5sKVANN7r4hBIJ/CaMjdxMNrT0J2JLFbucDC4DFIe4kiYZF6e104P1h+pdEJZBs3Ad8291vz3J9kZwpiIhk7x6iQeomE5VMAD5CFFROdvcOM1tHNB5RXCf7l/rTyw142d1PzzEf2Y5V9CRwkZn9yjW+kQwSVWeJZO9OopGcL2Xfv8SVA9tCAHknMDPDduuBY8LIr+VEDeIQDeBXbWanQ1S9ZWbHZtj+qXBciILWE1nm95+BBuBHWa4vkjMFEZEsufvLRP/Dvcn3DWV+O7DQzJYRfcG/mmG7WqL/uH4prP9CSG8nCkjfMrMXiUaQfVuGQ38OuMrMXgI+Bnw+h2x/ASgxs2yrwERyolF8RUQkbyqJiIhI3hREREQkbwoiIiKSNwURERHJm4KIiIjkTUFERETypiAiIiJ5+/8B/a9RzgP1esAAAAAASUVORK5CYII=\n",
      "text/plain": [
       "<Figure size 432x288 with 1 Axes>"
      ]
     },
     "metadata": {
      "needs_background": "light"
     },
     "output_type": "display_data"
    },
    {
     "name": "stdout",
     "output_type": "stream",
     "text": [
      "done\n",
      "33\n"
     ]
    }
   ],
   "source": [
    "import sys\n",
    "sys.path.append('code/')\n",
    "from def_of_week_1 import *\n",
    "import numpy as np \n",
    "from sklearn.datasets import load_diabetes\n",
    "import operator\n",
    "from scipy.special import expit\n",
    "import matplotlib.pyplot as plt\n",
    "\n",
    "diabetes = load_diabetes()\n",
    "X_train_d = diabetes.data[:300, np.newaxis, 3]\n",
    "y_train_d = diabetes.target[:300, np.newaxis]\n",
    "X_test_d = diabetes.data[300:, np.newaxis, 3]\n",
    "y_test_d = diabetes.target[300:, np.newaxis]\n",
    "\n",
    "dict_of_reg_errors ={}\n",
    "\n",
    "for k in range(1,len(X_train_d)+1,2):      # the value of k needs always to be an odd number  \n",
    "    prediction = kNN_test_reg(X_train_d, X_test_d, y_train_d, y_test_d, k)\n",
    "    knn_error = error_squared(y_test_d,prediction) #calculates the error of every k  \n",
    "    if k in dict_of_reg_errors:\n",
    "        print (k)\n",
    "    # creates a dictionary with the k as key and the error as value\n",
    "    else:\n",
    "        dict_of_reg_errors[k]=knn_error\n",
    "print('uitgevoerd')\n",
    "# It plots all the errors (y-as) against the k value's (x-as)\n",
    "plt.figure()\n",
    "plt.plot(list(dict_of_reg_errors.keys()), list(dict_of_reg_errors.values()))\n",
    "plt.xlabel('value of k')\n",
    "plt.ylabel('error')\n",
    "plt.title('predicting which k is optimal for the lowest error')\n",
    "plt.show()\n",
    "\n",
    "print('done')\n",
    "\n",
    "# It will print the value of K with the lowest error\n",
    "whichK = sorted(dict_of_reg_errors.items(), key=operator.itemgetter(1))\n",
    "bestKvalue = whichK[0][0]\n",
    "print (bestKvalue)"
   ]
  },
  {
   "cell_type": "markdown",
   "metadata": {},
   "source": [
    "### Class-conditional probability\n",
    "\n",
    "Compute and visualize the class-conditional probability (conditional probability where the class label is the conditional variable, i.e. $P(X = x \\mid Y = y)$ for all features in the breast cancer dataset. Assume a Gaussian distribution.\n",
    "\n",
    "<p><font color='#770a0a'>Based on visual analysis of the plots, which individual feature can best discriminate between the two classes? Motivate your answer.</font></p>\n",
    "\n"
   ]
  },
  {
   "cell_type": "code",
   "execution_count": 21,
   "metadata": {
    "scrolled": false
   },
   "outputs": [
    {
     "data": {
      "text/plain": [
       "Text(0.5, 1.0, '27')"
      ]
     },
     "execution_count": 21,
     "metadata": {},
     "output_type": "execute_result"
    }
   ],
   "source": [
    "import scipy.stats as stats\n",
    "from scipy.stats import norm\n",
    "import matplotlib.pyplot as plt\n",
    "\n",
    "#1 is B_data(healthy), 0 is M_dataant\n",
    "B_patients = np.where(breast_cancer.target==1) #which patients have benign breast cancer\n",
    "B_data = breast_cancer.data[B_patients] #data of these patients\n",
    "\n",
    "M_patients=np.where(breast_cancer.target==0)\n",
    "M_data = breast_cancer.data[M_patients]\n",
    "\n",
    "B_mean = np.average(B_data, axis=0)  #calcalate the mean \n",
    "B_std = np.std(B_data, axis=0)  #calculate standard deviation\n",
    "\n",
    "M_mean = np.average(M_data, axis=0)  \n",
    "M_std = np.std(M_data, axis=0)\n",
    "\n",
    "#for ii in range(30):\n",
    "ii=27\n",
    "xB = np.linspace(B_mean[ii]-3*B_std[ii],B_mean[ii]+3*B_std[ii],100)\n",
    "xM = np.linspace(M_mean[ii]-3*M_std[ii], M_mean[ii]+3*M_std[ii], 100)\n",
    "plt.figure()\n",
    "plt.plot(xB, stats.norm.pdf(xB,B_mean[ii],B_std[ii]),xM,stats.norm.pdf(xM,M_mean[ii],M_std[ii]))\n",
    "plt.title(ii)\n"
   ]
  },
  {
   "cell_type": "markdown",
   "metadata": {},
   "source": [
    "When the class-conditional probabilities for all 30 features were plotted, the 28th feature 'worst concave points' gave the most distinguishable classes."
   ]
  }
 ],
 "metadata": {
  "kernelspec": {
   "display_name": "Python 3",
   "language": "python",
   "name": "python3"
  },
  "language_info": {
   "codemirror_mode": {
    "name": "ipython",
    "version": 3
   },
   "file_extension": ".py",
   "mimetype": "text/x-python",
   "name": "python",
   "nbconvert_exporter": "python",
   "pygments_lexer": "ipython3",
   "version": "3.7.3"
  }
 },
 "nbformat": 4,
 "nbformat_minor": 2
}
